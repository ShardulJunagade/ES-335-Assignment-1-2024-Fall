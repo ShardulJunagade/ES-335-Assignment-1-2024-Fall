{
 "cells": [
  {
   "cell_type": "code",
   "execution_count": 1,
   "metadata": {},
   "outputs": [
    {
     "name": "stdout",
     "output_type": "stream",
     "text": [
      "X_train shape:  (126, 500, 3)\n",
      "X_test shape:  (54, 500, 3)\n",
      "y_train shape:  (126,)\n",
      "y_test shape:  (54,)\n"
     ]
    }
   ],
   "source": [
    "import pickle\n",
    "import numpy as np\n",
    "\n",
    "# Load datasets\n",
    "X_train = np.load('../FinalDataset/X_train.npy')\n",
    "X_test = np.load('../FinalDataset/X_test.npy')\n",
    "y_train = np.load('../FinalDataset/y_train.npy')\n",
    "y_test = np.load('../FinalDataset/y_test.npy')\n",
    "\n",
    "print(\"X_train shape: \", X_train.shape)\n",
    "print(\"X_test shape: \", X_test.shape)\n",
    "print(\"y_train shape: \", y_train.shape)\n",
    "print(\"y_test shape: \", y_test.shape)"
   ]
  },
  {
   "cell_type": "code",
   "execution_count": 2,
   "metadata": {},
   "outputs": [
    {
     "name": "stdout",
     "output_type": "stream",
     "text": [
      "*** Feature extraction started ***\n"
     ]
    },
    {
     "data": {
      "text/html": [
       "\n",
       "              <p>\n",
       "                  Progress: 100% Complete\n",
       "              <p/>\n",
       "              <progress\n",
       "                  value='126'\n",
       "                  max='126',\n",
       "                  style='width: 25%',\n",
       "              >\n",
       "                  126\n",
       "              </progress>\n",
       "\n",
       "    "
      ],
      "text/plain": [
       "<IPython.core.display.HTML object>"
      ]
     },
     "metadata": {},
     "output_type": "display_data"
    },
    {
     "name": "stdout",
     "output_type": "stream",
     "text": [
      "\n",
      "*** Feature extraction finished ***\n",
      "*** Feature extraction started ***\n"
     ]
    },
    {
     "data": {
      "text/html": [
       "\n",
       "              <p>\n",
       "                  Progress: 100% Complete\n",
       "              <p/>\n",
       "              <progress\n",
       "                  value='54'\n",
       "                  max='54',\n",
       "                  style='width: 25%',\n",
       "              >\n",
       "                  54\n",
       "              </progress>\n",
       "\n",
       "    "
      ],
      "text/plain": [
       "<IPython.core.display.HTML object>"
      ]
     },
     "metadata": {},
     "output_type": "display_data"
    },
    {
     "name": "stdout",
     "output_type": "stream",
     "text": [
      "\n",
      "*** Feature extraction finished ***\n",
      "X_train_pca shape:  (126, 20)\n",
      "X_test_pca shape:  (54, 20)\n"
     ]
    }
   ],
   "source": [
    "\n",
    "from sklearn.feature_selection import VarianceThreshold\n",
    "from sklearn.preprocessing import StandardScaler\n",
    "from sklearn.decomposition import PCA\n",
    "import tsfel\n",
    "\n",
    "# Extract features using TSFEL\n",
    "cfg = tsfel.get_features_by_domain()  # Get all features by default\n",
    "X_train_features = tsfel.time_series_features_extractor(cfg, X_train, verbose=1, fs=50)\n",
    "X_test_features = tsfel.time_series_features_extractor(cfg, X_test, verbose=1, fs=50)\n",
    "\n",
    "# Remove highly correlated features\n",
    "correlated_features = tsfel.correlated_features(X_train_features)\n",
    "X_train_filtered = X_train_features.drop(correlated_features, axis=1)\n",
    "X_test_filtered = X_test_features.drop(correlated_features, axis=1)\n",
    "\n",
    "# Remove low variance features\n",
    "variance_selector = VarianceThreshold(threshold=0)\n",
    "X_train_reduced = variance_selector.fit_transform(X_train_filtered)\n",
    "X_test_reduced = variance_selector.transform(X_test_filtered)\n",
    "\n",
    "# Normalize features\n",
    "scaler = StandardScaler()\n",
    "X_train_normalized = scaler.fit_transform(X_train_reduced)\n",
    "X_test_normalized = scaler.transform(X_test_reduced)\n",
    "\n",
    "# Apply PCA\n",
    "\n",
    "pca = PCA(n_components=20)\n",
    "X_train_pca_20 = pca.fit_transform(X_train_normalized)\n",
    "X_test_pca_20 = pca.transform(X_test_normalized)\n",
    "\n",
    "print(\"X_train_pca shape: \", X_train_pca_20.shape)\n",
    "print(\"X_test_pca shape: \", X_test_pca_20.shape)"
   ]
  },
  {
   "cell_type": "code",
   "execution_count": 3,
   "metadata": {},
   "outputs": [],
   "source": [
    "np.savez('processed_data.npz',\n",
    "         X_train_pca_20=X_train_pca_20,\n",
    "         X_test_pca_20=X_test_pca_20,\n",
    "         y_train=y_train,\n",
    "         y_test=y_test)"
   ]
  },
  {
   "cell_type": "code",
   "execution_count": 4,
   "metadata": {},
   "outputs": [
    {
     "name": "stdout",
     "output_type": "stream",
     "text": [
      "PCA Explained Variance:  [0.28703436 0.0377949  0.03279612 0.03077332 0.02917733 0.0260732\n",
      " 0.02319608 0.02129447 0.020463   0.01975971 0.01825382 0.01780579\n",
      " 0.01663475 0.01639236 0.01615722 0.01486602 0.0144819  0.01347625\n",
      " 0.01301564 0.01278159]\n",
      "PCA Explained Variance Sum:  0.6822278495259165\n"
     ]
    }
   ],
   "source": [
    "import pandas as pd\n",
    "\n",
    "print(\"PCA Explained Variance: \", pca.explained_variance_ratio_)\n",
    "print(\"PCA Explained Variance Sum: \", sum(pca.explained_variance_ratio_))"
   ]
  }
 ],
 "metadata": {
  "kernelspec": {
   "display_name": "base",
   "language": "python",
   "name": "python3"
  },
  "language_info": {
   "codemirror_mode": {
    "name": "ipython",
    "version": 3
   },
   "file_extension": ".py",
   "mimetype": "text/x-python",
   "name": "python",
   "nbconvert_exporter": "python",
   "pygments_lexer": "ipython3",
   "version": "3.12.4"
  }
 },
 "nbformat": 4,
 "nbformat_minor": 2
}
