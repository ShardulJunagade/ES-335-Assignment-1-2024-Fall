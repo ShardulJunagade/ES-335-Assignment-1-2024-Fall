{
 "cells": [
  {
   "cell_type": "markdown",
   "metadata": {},
   "source": [
    "# using one hot encoding improves performance"
   ]
  },
  {
   "cell_type": "code",
   "execution_count": 1,
   "metadata": {},
   "outputs": [],
   "source": [
    "import numpy as np\n",
    "import pandas as pd\n",
    "import matplotlib.pyplot as plt\n",
    "from tree.base import DecisionTree\n",
    "from tree.utils import *\n",
    "from metrics import *\n",
    "\n",
    "np.random.seed(42)"
   ]
  },
  {
   "cell_type": "code",
   "execution_count": 2,
   "metadata": {},
   "outputs": [
    {
     "name": "stdout",
     "output_type": "stream",
     "text": [
      "Criteria : information_gain\n",
      "RMSE:  0.35058133577908407\n",
      "MAE:  0.2790232592413352\n",
      "Criteria : gini_index\n",
      "RMSE:  0.660664966269471\n",
      "MAE:  0.46294685207331393\n"
     ]
    }
   ],
   "source": [
    "# Test case 1\n",
    "# Real Input and Real Output\n",
    "\n",
    "N = 30\n",
    "P = 5\n",
    "X = pd.DataFrame(np.random.randn(N, P))\n",
    "X = one_hot_encoding(X)\n",
    "y = pd.Series(np.random.randn(N))\n",
    "\n",
    "\n",
    "for criteria in [\"information_gain\", \"gini_index\"]:\n",
    "    tree = DecisionTree(criterion=criteria)  # Split based on Inf. Gain\n",
    "    tree.fit(X, y)\n",
    "    y_hat = tree.predict(X)\n",
    "    tree.plot()\n",
    "    print(\"Criteria :\", criteria)\n",
    "    print(\"RMSE: \", rmse(y_hat, y))\n",
    "    print(\"MAE: \", mae(y_hat, y))"
   ]
  },
  {
   "cell_type": "code",
   "execution_count": 3,
   "metadata": {},
   "outputs": [
    {
     "name": "stdout",
     "output_type": "stream",
     "text": [
      "Criteria : information_gain\n",
      "Accuracy:  0.8333333333333334\n",
      "Precision:  1.0\n",
      "Recall:  0.8\n",
      "Precision:  0.75\n",
      "Recall:  0.9\n",
      "Precision:  1.0\n",
      "Recall:  1.0\n",
      "Precision:  0.6666666666666666\n",
      "Recall:  1.0\n",
      "Precision:  0.5\n",
      "Recall:  0.3333333333333333\n",
      "Criteria : gini_index\n",
      "Accuracy:  0.8\n",
      "Precision:  1.0\n",
      "Recall:  0.8\n",
      "Precision:  0.7142857142857143\n",
      "Recall:  1.0\n",
      "Precision:  1.0\n",
      "Recall:  0.6\n",
      "Precision:  0.6666666666666666\n",
      "Recall:  1.0\n",
      "Precision:  0.5\n",
      "Recall:  0.3333333333333333\n"
     ]
    }
   ],
   "source": [
    "# Test case 2\n",
    "# Real Input and Discrete Output\n",
    "\n",
    "N = 30\n",
    "P = 5\n",
    "X = pd.DataFrame(np.random.randn(N, P))\n",
    "X = one_hot_encoding(X)\n",
    "y = pd.Series(np.random.randint(P, size=N), dtype=\"category\")\n",
    "# print(X)\n",
    "# print(y)\n",
    "\n",
    "for criteria in [\"information_gain\", \"gini_index\"]:\n",
    "    tree = DecisionTree(criterion=criteria)  # Split based on Inf. Gain\n",
    "    tree.fit(X, y)\n",
    "    y_hat = tree.predict(X)\n",
    "    tree.plot()\n",
    "    print(\"Criteria :\", criteria)\n",
    "    # print(y_hat)\n",
    "    print(\"Accuracy: \", accuracy(y_hat, y))\n",
    "    for cls in y.unique():\n",
    "        print(\"Precision: \", precision(y_hat, y, cls))\n",
    "        print(\"Recall: \", recall(y_hat, y, cls))\n"
   ]
  },
  {
   "cell_type": "code",
   "execution_count": 4,
   "metadata": {},
   "outputs": [
    {
     "name": "stdout",
     "output_type": "stream",
     "text": [
      "Criteria : information_gain\n",
      "Accuracy:  0.9333333333333333\n",
      "Precision:  0.8571428571428571\n",
      "Recall:  0.8571428571428571\n",
      "Precision:  1.0\n",
      "Recall:  1.0\n",
      "Precision:  1.0\n",
      "Recall:  0.8888888888888888\n",
      "Precision:  0.8333333333333334\n",
      "Recall:  1.0\n",
      "Precision:  1.0\n",
      "Recall:  1.0\n",
      "Criteria : gini_index\n",
      "Accuracy:  0.8333333333333334\n",
      "Precision:  0.6\n",
      "Recall:  0.8571428571428571\n",
      "Precision:  1.0\n",
      "Recall:  0.75\n",
      "Precision:  1.0\n",
      "Recall:  0.8888888888888888\n",
      "Precision:  0.8333333333333334\n",
      "Recall:  1.0\n",
      "Precision:  1.0\n",
      "Recall:  0.6\n"
     ]
    }
   ],
   "source": [
    "# Test case 3\n",
    "# Discrete Input and Discrete Output\n",
    "\n",
    "N = 30\n",
    "P = 5\n",
    "X = pd.DataFrame({i: pd.Series(np.random.randint(P, size=N), dtype=\"category\") for i in range(5)})\n",
    "X = one_hot_encoding(X)\n",
    "y = pd.Series(np.random.randint(P, size=N), dtype=\"category\")\n",
    "# print(X)\n",
    "# print(y)\n",
    "\n",
    "for criteria in [\"information_gain\", \"gini_index\"]:\n",
    "    tree = DecisionTree(criterion=criteria)  # Split based on Inf. Gain\n",
    "    tree.fit(X, y)\n",
    "    y_hat = tree.predict(X)\n",
    "    tree.plot()\n",
    "    print(\"Criteria :\", criteria)\n",
    "    # print(y_hat)\n",
    "    print(\"Accuracy: \", accuracy(y_hat, y))\n",
    "    for cls in y.unique():\n",
    "        print(\"Precision: \", precision(y_hat, y, cls))\n",
    "        print(\"Recall: \", recall(y_hat, y, cls))"
   ]
  },
  {
   "cell_type": "code",
   "execution_count": 5,
   "metadata": {},
   "outputs": [
    {
     "name": "stdout",
     "output_type": "stream",
     "text": [
      "Criteria : information_gain\n",
      "RMSE:  0.29478475248015334\n",
      "MAE:  0.20104605291276426\n",
      "Criteria : gini_index\n",
      "RMSE:  0.6916939503745642\n",
      "MAE:  0.4018729710292463\n"
     ]
    }
   ],
   "source": [
    "# Test case 4\n",
    "# Discrete Input and Real Output\n",
    "\n",
    "N = 30\n",
    "P = 5\n",
    "X = pd.DataFrame({i: pd.Series(np.random.randint(P, size=N), dtype=\"category\") for i in range(5)})\n",
    "X = one_hot_encoding(X)\n",
    "y = pd.Series(np.random.randn(N))\n",
    "\n",
    "for criteria in [\"information_gain\", \"gini_index\"]:\n",
    "    tree = DecisionTree(criterion=criteria)  # Split based on Inf. Gain\n",
    "    tree.fit(X, y)\n",
    "    y_hat = tree.predict(X)\n",
    "    tree.plot()\n",
    "    print(\"Criteria :\", criteria)\n",
    "    print(\"RMSE: \", rmse(y_hat, y))\n",
    "    print(\"MAE: \", mae(y_hat, y))\n"
   ]
  },
  {
   "cell_type": "code",
   "execution_count": null,
   "metadata": {},
   "outputs": [],
   "source": []
  }
 ],
 "metadata": {
  "kernelspec": {
   "display_name": "venv",
   "language": "python",
   "name": "python3"
  },
  "language_info": {
   "codemirror_mode": {
    "name": "ipython",
    "version": 3
   },
   "file_extension": ".py",
   "mimetype": "text/x-python",
   "name": "python",
   "nbconvert_exporter": "python",
   "pygments_lexer": "ipython3",
   "version": "3.12.4"
  }
 },
 "nbformat": 4,
 "nbformat_minor": 2
}
