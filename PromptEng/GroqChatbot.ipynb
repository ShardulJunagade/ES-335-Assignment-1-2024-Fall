{
 "cells": [
  {
   "cell_type": "code",
   "execution_count": 1,
   "metadata": {},
   "outputs": [],
   "source": [
    "import pandas as pd\n",
    "import numpy as np"
   ]
  },
  {
   "cell_type": "code",
   "execution_count": 4,
   "metadata": {},
   "outputs": [
    {
     "name": "stdout",
     "output_type": "stream",
     "text": [
      "GROQ_API_KEY: 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\n"
     ]
    }
   ],
   "source": [
    "import json\n",
    "import os\n",
    "from groq import Groq\n",
    "\n",
    "# Load configuration from JSON file\n",
    "with open('config.json', 'r') as config_file:\n",
    "    config = json.load(config_file)\n",
    "\n",
    "# Get the API key from the configuration\n",
    "groq_api_key = config.get('GROQ_API_KEY')\n",
    "print(\"GROQ_API_KEY:\", groq_api_key)"
   ]
  },
  {
   "cell_type": "markdown",
   "metadata": {},
   "source": [
    "# Performing a chat completion"
   ]
  },
  {
   "cell_type": "code",
   "execution_count": 11,
   "metadata": {},
   "outputs": [
    {
     "name": "stdout",
     "output_type": "stream",
     "text": [
      "The decision to buy a house or rent one depends on several factors, including your financial situation, lifestyle, and personal preferences. Here are some points to consider:\n",
      "\n",
      "**Buying a House:**\n",
      "\n",
      "Pros:\n",
      "\n",
      "1. **Building equity**: As you pay down your mortgage, you build equity in your home, which can be a valuable asset.\n",
      "2. **Tax benefits**: Homeownership comes with tax benefits like mortgage interest and property tax deductions.\n",
      "3. **Customization**: Owning a home gives you the freedom to make changes and improvements to suit your needs and tastes.\n",
      "4. **Stability**: Once you've paid off your mortgage, you have a fixed monthly payment and a sense of stability.\n",
      "\n",
      "Cons:\n",
      "\n",
      "1. **High upfront costs**: Buying a house typically requires a significant down payment and closing costs.\n",
      "2. **Maintenance and repairs**: As a homeowner, you'll be responsible for maintenance and repairs, which can be time-consuming and costly.\n",
      "3. **Liquidity**: It can be difficult to access your money quickly if you need to, as you'll need to sell the property or take out a second mortgage.\n",
      "4. **Market risks**: The housing market can be unpredictable, and market fluctuations can affect the value of your property.\n",
      "\n",
      "**Renting a House:**\n",
      "\n",
      "Pros:\n",
      "\n",
      "1. **Lower upfront costs**: Renting typically requires a security deposit and first month's rent, which is lower than the down payment required for buying.\n",
      "2. **Flexibility**: Renting allows for greater flexibility to move to a new location if needed.\n",
      "3. **Less financial risk**: Renters are not responsible for maintenance and repairs, which can be a significant cost savings.\n",
      "4. **Access to amenities**: Many rental properties offer amenities like a pool, gym, or community garden that you might not be able to afford if you were buying a home.\n",
      "\n",
      "Cons:\n",
      "\n",
      "1. **No equity**: As a renter, you won't build any equity in the property.\n",
      "2. **Rent increases**: Rent can increase over time, and you may not have much control over these increases.\n",
      "3. **Lease restrictions**: Rental agreements often come with restrictions on things like pets, guests, and renovations.\n",
      "4. **No long-term control**: As a renter, you may not have control over the property long-term, and you may need to vacate the property when the lease ends.\n",
      "\n",
      "**Ultimately, the decision to buy or rent depends on your individual circumstances and priorities.** Consider the following questions:\n",
      "\n",
      "1. How long do you plan to stay in the area?\n",
      "2. What is your financial situation, and do you have enough savings for a down payment and ongoing expenses like mortgage payments, maintenance, and repairs?\n",
      "3. Do you value the flexibility to move easily, or do you want to establish a sense of stability and permanence in a home?\n",
      "4. Are you comfortable with the risks and responsibilities that come with homeownership?\n",
      "\n",
      "It may be helpful to speak with a financial advisor or a real estate professional to get personalized advice on this decision.\n"
     ]
    }
   ],
   "source": [
    "# Initialize Groq client with the API key\n",
    "client = Groq(api_key=groq_api_key)\n",
    "\n",
    "# Create a chat completion request\n",
    "chat_completion = client.chat.completions.create(\n",
    "    messages=[\n",
    "        {\n",
    "            \"role\": \"user\",\n",
    "            \"content\": \"Should I buy a house or rent?\",\n",
    "        }\n",
    "    ],\n",
    "    model=\"llama3-8b-8192\",\n",
    ")\n",
    "\n",
    "# Print the response from the model\n",
    "print(chat_completion.choices[0].message.content)"
   ]
  },
  {
   "cell_type": "code",
   "execution_count": null,
   "metadata": {},
   "outputs": [],
   "source": []
  }
 ],
 "metadata": {
  "kernelspec": {
   "display_name": "base",
   "language": "python",
   "name": "python3"
  },
  "language_info": {
   "codemirror_mode": {
    "name": "ipython",
    "version": 3
   },
   "file_extension": ".py",
   "mimetype": "text/x-python",
   "name": "python",
   "nbconvert_exporter": "python",
   "pygments_lexer": "ipython3",
   "version": "3.12.4"
  }
 },
 "nbformat": 4,
 "nbformat_minor": 2
}
