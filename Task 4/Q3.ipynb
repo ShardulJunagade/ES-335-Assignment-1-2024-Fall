{
 "cells": [
  {
   "cell_type": "code",
   "execution_count": 13,
   "metadata": {},
   "outputs": [
    {
     "name": "stdout",
     "output_type": "stream",
     "text": [
      "Activity Labels Dictionary:  {'WALKING': 1, 'WALKING_UPSTAIRS': 2, 'WALKING_DOWNSTAIRS': 3, 'SITTING': 4, 'STANDING': 5, 'LAYING': 6}\n"
     ]
    }
   ],
   "source": [
    "import numpy as np\n",
    "\n",
    "# Define the model mapping\n",
    "groq_models = {\n",
    "    \"llama3-70b\": \"llama3-70b-8192\",\n",
    "    \"mixtral\": \"mixtral-8x7b-32768\",\n",
    "    \"gemma-7b\": \"gemma-7b-it\",\n",
    "    \"llama3.1-70b\": \"llama-3.1-70b-versatile\",\n",
    "    \"llama3-8b\": \"llama3-8b-8192\",\n",
    "    \"llama3.1-8b\": \"llama-3.1-8b-instant\",\"\"\n",
    "    \"gemma-9b\": \"gemma2-9b-it\"\n",
    "}\n",
    "\n",
    "activity_labels = {\n",
    "    1: \"WALKING\",\n",
    "    2: \"WALKING_UPSTAIRS\",\n",
    "    3: \"WALKING_DOWNSTAIRS\",\n",
    "    4: \"SITTING\",\n",
    "    5: \"STANDING\",\n",
    "    6: \"LAYING\"\n",
    "}\n",
    "reverse_activity_labels = {v: k for k, v in activity_labels.items()}\n",
    "\n",
    "print(\"Activity Labels Dictionary: \", reverse_activity_labels)\n"
   ]
  },
  {
   "cell_type": "code",
   "execution_count": 14,
   "metadata": {},
   "outputs": [
    {
     "name": "stdout",
     "output_type": "stream",
     "text": [
      "Loaded dataset shape: (24, 500, 3)\n",
      "X_test_real_reshaped shape: (24, 500, 3)\n",
      "y_test_reshaped shape: (24,)\n"
     ]
    }
   ],
   "source": [
    "combined_dataset_x = np.load('../Data/combined_dataset.npy')\n",
    "print(f\"Loaded dataset shape: {combined_dataset_x.shape}\")\n",
    "\n",
    "combined_dataset_y= np.array([1,2,3,4,5,6]*4)\n",
    "print(f\"X_test_real_reshaped shape: {combined_dataset_x.shape}\")\n",
    "print(f\"y_test_reshaped shape: {combined_dataset_y.shape}\")"
   ]
  },
  {
   "cell_type": "code",
   "execution_count": 15,
   "metadata": {},
   "outputs": [
    {
     "name": "stdout",
     "output_type": "stream",
     "text": [
      "X_test shape: (24, 500, 3)\n",
      "y_test shape: (24,)\n"
     ]
    }
   ],
   "source": [
    "\n",
    "X_test = combined_dataset_x[:,:,:]\n",
    "y_test = combined_dataset_y[:]\n",
    "\n",
    "print(f\"X_test shape: {X_test.shape}\")\n",
    "print(f\"y_test shape: {y_test.shape}\")"
   ]
  },
  {
   "cell_type": "code",
   "execution_count": 16,
   "metadata": {},
   "outputs": [
    {
     "name": "stdout",
     "output_type": "stream",
     "text": [
      "803\n",
      "<class 'sklearn.decomposition._pca.PCA'>\n",
      "<class 'sklearn.preprocessing._data.StandardScaler'>\n",
      "<class 'sklearn.tree._classes.DecisionTreeClassifier'>\n",
      "['0_Absolute energy', '0_Autocorrelation', '0_Centroid', '0_ECDF Percentile_0', '0_Entropy', '0_FFT mean coefficient_0', '0_FFT mean coefficient_1', '0_FFT mean coefficient_10', '0_FFT mean coefficient_100', '0_FFT mean coefficient_101', '0_FFT mean coefficient_102', '0_FFT mean coefficient_103', '0_FFT mean coefficient_104', '0_FFT mean coefficient_105', '0_FFT mean coefficient_106', '0_FFT mean coefficient_107', '0_FFT mean coefficient_108', '0_FFT mean coefficient_109', '0_FFT mean coefficient_11', '0_FFT mean coefficient_110', '0_FFT mean coefficient_111', '0_FFT mean coefficient_112', '0_FFT mean coefficient_113', '0_FFT mean coefficient_114', '0_FFT mean coefficient_115', '0_FFT mean coefficient_116', '0_FFT mean coefficient_117', '0_FFT mean coefficient_118', '0_FFT mean coefficient_119', '0_FFT mean coefficient_12', '0_FFT mean coefficient_120', '0_FFT mean coefficient_121', '0_FFT mean coefficient_122', '0_FFT mean coefficient_123', '0_FFT mean coefficient_124', '0_FFT mean coefficient_125', '0_FFT mean coefficient_126', '0_FFT mean coefficient_127', '0_FFT mean coefficient_128', '0_FFT mean coefficient_129', '0_FFT mean coefficient_13', '0_FFT mean coefficient_130', '0_FFT mean coefficient_131', '0_FFT mean coefficient_132', '0_FFT mean coefficient_133', '0_FFT mean coefficient_134', '0_FFT mean coefficient_135', '0_FFT mean coefficient_136', '0_FFT mean coefficient_137', '0_FFT mean coefficient_138', '0_FFT mean coefficient_139', '0_FFT mean coefficient_14', '0_FFT mean coefficient_140', '0_FFT mean coefficient_141', '0_FFT mean coefficient_142', '0_FFT mean coefficient_143', '0_FFT mean coefficient_144', '0_FFT mean coefficient_145', '0_FFT mean coefficient_146', '0_FFT mean coefficient_147', '0_FFT mean coefficient_148', '0_FFT mean coefficient_149', '0_FFT mean coefficient_15', '0_FFT mean coefficient_150', '0_FFT mean coefficient_151', '0_FFT mean coefficient_152', '0_FFT mean coefficient_153', '0_FFT mean coefficient_154', '0_FFT mean coefficient_155', '0_FFT mean coefficient_156', '0_FFT mean coefficient_157', '0_FFT mean coefficient_158', '0_FFT mean coefficient_159', '0_FFT mean coefficient_16', '0_FFT mean coefficient_160', '0_FFT mean coefficient_161', '0_FFT mean coefficient_162', '0_FFT mean coefficient_163', '0_FFT mean coefficient_164', '0_FFT mean coefficient_165', '0_FFT mean coefficient_166', '0_FFT mean coefficient_167', '0_FFT mean coefficient_168', '0_FFT mean coefficient_169', '0_FFT mean coefficient_17', '0_FFT mean coefficient_170', '0_FFT mean coefficient_171', '0_FFT mean coefficient_172', '0_FFT mean coefficient_173', '0_FFT mean coefficient_174', '0_FFT mean coefficient_175', '0_FFT mean coefficient_176', '0_FFT mean coefficient_177', '0_FFT mean coefficient_178', '0_FFT mean coefficient_179', '0_FFT mean coefficient_18', '0_FFT mean coefficient_180', '0_FFT mean coefficient_181', '0_FFT mean coefficient_182', '0_FFT mean coefficient_183', '0_FFT mean coefficient_184', '0_FFT mean coefficient_185', '0_FFT mean coefficient_186', '0_FFT mean coefficient_187', '0_FFT mean coefficient_188', '0_FFT mean coefficient_189', '0_FFT mean coefficient_19', '0_FFT mean coefficient_190', '0_FFT mean coefficient_191', '0_FFT mean coefficient_192', '0_FFT mean coefficient_193', '0_FFT mean coefficient_194', '0_FFT mean coefficient_195', '0_FFT mean coefficient_196', '0_FFT mean coefficient_197', '0_FFT mean coefficient_198', '0_FFT mean coefficient_199', '0_FFT mean coefficient_2', '0_FFT mean coefficient_20', '0_FFT mean coefficient_200', '0_FFT mean coefficient_201', '0_FFT mean coefficient_202', '0_FFT mean coefficient_203', '0_FFT mean coefficient_204', '0_FFT mean coefficient_205', '0_FFT mean coefficient_206', '0_FFT mean coefficient_207', '0_FFT mean coefficient_208', '0_FFT mean coefficient_209', '0_FFT mean coefficient_21', '0_FFT mean coefficient_210', '0_FFT mean coefficient_213', '0_FFT mean coefficient_217', '0_FFT mean coefficient_22', '0_FFT mean coefficient_24', '0_FFT mean coefficient_25', '0_FFT mean coefficient_26', '0_FFT mean coefficient_27', '0_FFT mean coefficient_28', '0_FFT mean coefficient_29', '0_FFT mean coefficient_3', '0_FFT mean coefficient_30', '0_FFT mean coefficient_31', '0_FFT mean coefficient_32', '0_FFT mean coefficient_33', '0_FFT mean coefficient_34', '0_FFT mean coefficient_35', '0_FFT mean coefficient_36', '0_FFT mean coefficient_37', '0_FFT mean coefficient_38', '0_FFT mean coefficient_39', '0_FFT mean coefficient_4', '0_FFT mean coefficient_40', '0_FFT mean coefficient_41', '0_FFT mean coefficient_42', '0_FFT mean coefficient_43', '0_FFT mean coefficient_44', '0_FFT mean coefficient_45', '0_FFT mean coefficient_46', '0_FFT mean coefficient_47', '0_FFT mean coefficient_48', '0_FFT mean coefficient_49', '0_FFT mean coefficient_5', '0_FFT mean coefficient_50', '0_FFT mean coefficient_51', '0_FFT mean coefficient_52', '0_FFT mean coefficient_53', '0_FFT mean coefficient_54', '0_FFT mean coefficient_55', '0_FFT mean coefficient_56', '0_FFT mean coefficient_57', '0_FFT mean coefficient_58', '0_FFT mean coefficient_59', '0_FFT mean coefficient_6', '0_FFT mean coefficient_60', '0_FFT mean coefficient_61', '0_FFT mean coefficient_62', '0_FFT mean coefficient_63', '0_FFT mean coefficient_64', '0_FFT mean coefficient_65', '0_FFT mean coefficient_66', '0_FFT mean coefficient_67', '0_FFT mean coefficient_68', '0_FFT mean coefficient_69', '0_FFT mean coefficient_7', '0_FFT mean coefficient_70', '0_FFT mean coefficient_71', '0_FFT mean coefficient_72', '0_FFT mean coefficient_73', '0_FFT mean coefficient_74', '0_FFT mean coefficient_75', '0_FFT mean coefficient_76', '0_FFT mean coefficient_77', '0_FFT mean coefficient_78', '0_FFT mean coefficient_79', '0_FFT mean coefficient_8', '0_FFT mean coefficient_80', '0_FFT mean coefficient_81', '0_FFT mean coefficient_82', '0_FFT mean coefficient_83', '0_FFT mean coefficient_84', '0_FFT mean coefficient_85', '0_FFT mean coefficient_86', '0_FFT mean coefficient_87', '0_FFT mean coefficient_88', '0_FFT mean coefficient_89', '0_FFT mean coefficient_9', '0_FFT mean coefficient_90', '0_FFT mean coefficient_91', '0_FFT mean coefficient_92', '0_FFT mean coefficient_93', '0_FFT mean coefficient_94', '0_FFT mean coefficient_95', '0_FFT mean coefficient_96', '0_FFT mean coefficient_97', '0_FFT mean coefficient_98', '0_FFT mean coefficient_99', '0_Fundamental frequency', '0_Histogram_4', '0_Histogram_5', '0_Histogram_6', '0_Histogram_7', '0_Histogram_8', '0_Histogram_9', '0_Human range energy', '0_Interquartile range', '0_Kurtosis', '0_LPCC_0', '0_LPCC_1', '0_LPCC_10', '0_LPCC_3', '0_LPCC_4', '0_LPCC_5', '0_LPCC_6', '0_MFCC_0', '0_MFCC_1', '0_MFCC_10', '0_MFCC_11', '0_MFCC_2', '0_MFCC_3', '0_MFCC_4', '0_MFCC_5', '0_MFCC_6', '0_MFCC_7', '0_MFCC_8', '0_MFCC_9', '0_Max', '0_Max power spectrum', '0_Maximum frequency', '0_Mean diff', '0_Median diff', '0_Median frequency', '0_Min', '0_Negative turning points', '0_Neighbourhood peaks', '0_Power bandwidth', '0_Skewness', '0_Slope', '0_Spectral decrease', '0_Spectral entropy', '0_Spectral positive turning points', '0_Spectral variation', '0_Wavelet absolute mean_0', '0_Wavelet entropy', '0_Zero crossing rate', '1_Absolute energy', '1_Autocorrelation', '1_Centroid', '1_ECDF Percentile_0', '1_Entropy', '1_FFT mean coefficient_0', '1_FFT mean coefficient_10', '1_FFT mean coefficient_100', '1_FFT mean coefficient_101', '1_FFT mean coefficient_102', '1_FFT mean coefficient_103', '1_FFT mean coefficient_104', '1_FFT mean coefficient_105', '1_FFT mean coefficient_106', '1_FFT mean coefficient_107', '1_FFT mean coefficient_108', '1_FFT mean coefficient_109', '1_FFT mean coefficient_11', '1_FFT mean coefficient_110', '1_FFT mean coefficient_111', '1_FFT mean coefficient_112', '1_FFT mean coefficient_113', '1_FFT mean coefficient_114', '1_FFT mean coefficient_115', '1_FFT mean coefficient_116', '1_FFT mean coefficient_117', '1_FFT mean coefficient_118', '1_FFT mean coefficient_119', '1_FFT mean coefficient_12', '1_FFT mean coefficient_120', '1_FFT mean coefficient_121', '1_FFT mean coefficient_122', '1_FFT mean coefficient_123', '1_FFT mean coefficient_124', '1_FFT mean coefficient_125', '1_FFT mean coefficient_126', '1_FFT mean coefficient_127', '1_FFT mean coefficient_128', '1_FFT mean coefficient_129', '1_FFT mean coefficient_13', '1_FFT mean coefficient_130', '1_FFT mean coefficient_131', '1_FFT mean coefficient_132', '1_FFT mean coefficient_133', '1_FFT mean coefficient_134', '1_FFT mean coefficient_135', '1_FFT mean coefficient_136', '1_FFT mean coefficient_137', '1_FFT mean coefficient_138', '1_FFT mean coefficient_139', '1_FFT mean coefficient_14', '1_FFT mean coefficient_140', '1_FFT mean coefficient_141', '1_FFT mean coefficient_142', '1_FFT mean coefficient_143', '1_FFT mean coefficient_144', '1_FFT mean coefficient_145', '1_FFT mean coefficient_146', '1_FFT mean coefficient_147', '1_FFT mean coefficient_148', '1_FFT mean coefficient_149', '1_FFT mean coefficient_15', '1_FFT mean coefficient_150', '1_FFT mean coefficient_151', '1_FFT mean coefficient_152', '1_FFT mean coefficient_153', '1_FFT mean coefficient_154', '1_FFT mean coefficient_155', '1_FFT mean coefficient_156', '1_FFT mean coefficient_157', '1_FFT mean coefficient_158', '1_FFT mean coefficient_159', '1_FFT mean coefficient_16', '1_FFT mean coefficient_160', '1_FFT mean coefficient_161', '1_FFT mean coefficient_162', '1_FFT mean coefficient_163', '1_FFT mean coefficient_164', '1_FFT mean coefficient_165', '1_FFT mean coefficient_166', '1_FFT mean coefficient_167', '1_FFT mean coefficient_168', '1_FFT mean coefficient_169', '1_FFT mean coefficient_17', '1_FFT mean coefficient_170', '1_FFT mean coefficient_171', '1_FFT mean coefficient_172', '1_FFT mean coefficient_173', '1_FFT mean coefficient_174', '1_FFT mean coefficient_175', '1_FFT mean coefficient_176', '1_FFT mean coefficient_177', '1_FFT mean coefficient_178', '1_FFT mean coefficient_179', '1_FFT mean coefficient_18', '1_FFT mean coefficient_180', '1_FFT mean coefficient_181', '1_FFT mean coefficient_182', '1_FFT mean coefficient_183', '1_FFT mean coefficient_184', '1_FFT mean coefficient_185', '1_FFT mean coefficient_186', '1_FFT mean coefficient_187', '1_FFT mean coefficient_188', '1_FFT mean coefficient_189', '1_FFT mean coefficient_19', '1_FFT mean coefficient_190', '1_FFT mean coefficient_191', '1_FFT mean coefficient_192', '1_FFT mean coefficient_193', '1_FFT mean coefficient_194', '1_FFT mean coefficient_195', '1_FFT mean coefficient_196', '1_FFT mean coefficient_197', '1_FFT mean coefficient_198', '1_FFT mean coefficient_199', '1_FFT mean coefficient_2', '1_FFT mean coefficient_20', '1_FFT mean coefficient_200', '1_FFT mean coefficient_201', '1_FFT mean coefficient_202', '1_FFT mean coefficient_203', '1_FFT mean coefficient_204', '1_FFT mean coefficient_205', '1_FFT mean coefficient_206', '1_FFT mean coefficient_207', '1_FFT mean coefficient_208', '1_FFT mean coefficient_209', '1_FFT mean coefficient_21', '1_FFT mean coefficient_210', '1_FFT mean coefficient_211', '1_FFT mean coefficient_22', '1_FFT mean coefficient_23', '1_FFT mean coefficient_24', '1_FFT mean coefficient_25', '1_FFT mean coefficient_26', '1_FFT mean coefficient_27', '1_FFT mean coefficient_28', '1_FFT mean coefficient_29', '1_FFT mean coefficient_3', '1_FFT mean coefficient_30', '1_FFT mean coefficient_31', '1_FFT mean coefficient_32', '1_FFT mean coefficient_33', '1_FFT mean coefficient_34', '1_FFT mean coefficient_35', '1_FFT mean coefficient_36', '1_FFT mean coefficient_37', '1_FFT mean coefficient_38', '1_FFT mean coefficient_39', '1_FFT mean coefficient_4', '1_FFT mean coefficient_40', '1_FFT mean coefficient_41', '1_FFT mean coefficient_42', '1_FFT mean coefficient_43', '1_FFT mean coefficient_44', '1_FFT mean coefficient_45', '1_FFT mean coefficient_46', '1_FFT mean coefficient_47', '1_FFT mean coefficient_48', '1_FFT mean coefficient_49', '1_FFT mean coefficient_5', '1_FFT mean coefficient_50', '1_FFT mean coefficient_51', '1_FFT mean coefficient_52', '1_FFT mean coefficient_53', '1_FFT mean coefficient_54', '1_FFT mean coefficient_55', '1_FFT mean coefficient_56', '1_FFT mean coefficient_57', '1_FFT mean coefficient_58', '1_FFT mean coefficient_59', '1_FFT mean coefficient_6', '1_FFT mean coefficient_60', '1_FFT mean coefficient_61', '1_FFT mean coefficient_62', '1_FFT mean coefficient_63', '1_FFT mean coefficient_64', '1_FFT mean coefficient_65', '1_FFT mean coefficient_66', '1_FFT mean coefficient_67', '1_FFT mean coefficient_68', '1_FFT mean coefficient_69', '1_FFT mean coefficient_7', '1_FFT mean coefficient_70', '1_FFT mean coefficient_71', '1_FFT mean coefficient_72', '1_FFT mean coefficient_73', '1_FFT mean coefficient_74', '1_FFT mean coefficient_75', '1_FFT mean coefficient_76', '1_FFT mean coefficient_77', '1_FFT mean coefficient_78', '1_FFT mean coefficient_79', '1_FFT mean coefficient_8', '1_FFT mean coefficient_80', '1_FFT mean coefficient_81', '1_FFT mean coefficient_82', '1_FFT mean coefficient_83', '1_FFT mean coefficient_84', '1_FFT mean coefficient_85', '1_FFT mean coefficient_86', '1_FFT mean coefficient_87', '1_FFT mean coefficient_88', '1_FFT mean coefficient_89', '1_FFT mean coefficient_9', '1_FFT mean coefficient_90', '1_FFT mean coefficient_91', '1_FFT mean coefficient_92', '1_FFT mean coefficient_93', '1_FFT mean coefficient_94', '1_FFT mean coefficient_95', '1_FFT mean coefficient_96', '1_FFT mean coefficient_97', '1_FFT mean coefficient_98', '1_FFT mean coefficient_99', '1_Fundamental frequency', '1_Histogram_0', '1_Histogram_1', '1_Histogram_2', '1_Histogram_3', '1_Histogram_4', '1_Histogram_5', '1_Histogram_6', '1_Histogram_7', '1_Histogram_8', '1_Histogram_9', '1_Human range energy', '1_Interquartile range', '1_Kurtosis', '1_LPCC_0', '1_LPCC_1', '1_LPCC_10', '1_LPCC_3', '1_LPCC_5', '1_MFCC_0', '1_MFCC_1', '1_MFCC_10', '1_MFCC_11', '1_MFCC_2', '1_MFCC_3', '1_MFCC_4', '1_MFCC_5', '1_MFCC_6', '1_MFCC_7', '1_MFCC_8', '1_MFCC_9', '1_Max', '1_Max power spectrum', '1_Maximum frequency', '1_Mean diff', '1_Median absolute deviation', '1_Median diff', '1_Min', '1_Negative turning points', '1_Neighbourhood peaks', '1_Power bandwidth', '1_Skewness', '1_Slope', '1_Spectral centroid', '1_Spectral decrease', '1_Spectral distance', '1_Spectral entropy', '1_Spectral positive turning points', '1_Spectral roll-on', '1_Spectral variation', '1_Wavelet absolute mean_0', '1_Wavelet entropy', '1_Zero crossing rate', '2_Absolute energy', '2_Autocorrelation', '2_Centroid', '2_ECDF Percentile_0', '2_Entropy', '2_FFT mean coefficient_0', '2_FFT mean coefficient_1', '2_FFT mean coefficient_10', '2_FFT mean coefficient_100', '2_FFT mean coefficient_101', '2_FFT mean coefficient_102', '2_FFT mean coefficient_103', '2_FFT mean coefficient_104', '2_FFT mean coefficient_105', '2_FFT mean coefficient_106', '2_FFT mean coefficient_107', '2_FFT mean coefficient_108', '2_FFT mean coefficient_109', '2_FFT mean coefficient_11', '2_FFT mean coefficient_110', '2_FFT mean coefficient_111', '2_FFT mean coefficient_112', '2_FFT mean coefficient_113', '2_FFT mean coefficient_114', '2_FFT mean coefficient_115', '2_FFT mean coefficient_116', '2_FFT mean coefficient_117', '2_FFT mean coefficient_118', '2_FFT mean coefficient_119', '2_FFT mean coefficient_12', '2_FFT mean coefficient_120', '2_FFT mean coefficient_121', '2_FFT mean coefficient_122', '2_FFT mean coefficient_123', '2_FFT mean coefficient_124', '2_FFT mean coefficient_125', '2_FFT mean coefficient_126', '2_FFT mean coefficient_127', '2_FFT mean coefficient_128', '2_FFT mean coefficient_129', '2_FFT mean coefficient_13', '2_FFT mean coefficient_130', '2_FFT mean coefficient_131', '2_FFT mean coefficient_132', '2_FFT mean coefficient_133', '2_FFT mean coefficient_134', '2_FFT mean coefficient_135', '2_FFT mean coefficient_136', '2_FFT mean coefficient_137', '2_FFT mean coefficient_138', '2_FFT mean coefficient_139', '2_FFT mean coefficient_14', '2_FFT mean coefficient_140', '2_FFT mean coefficient_141', '2_FFT mean coefficient_142', '2_FFT mean coefficient_143', '2_FFT mean coefficient_144', '2_FFT mean coefficient_145', '2_FFT mean coefficient_146', '2_FFT mean coefficient_147', '2_FFT mean coefficient_148', '2_FFT mean coefficient_149', '2_FFT mean coefficient_15', '2_FFT mean coefficient_150', '2_FFT mean coefficient_151', '2_FFT mean coefficient_152', '2_FFT mean coefficient_153', '2_FFT mean coefficient_154', '2_FFT mean coefficient_155', '2_FFT mean coefficient_156', '2_FFT mean coefficient_157', '2_FFT mean coefficient_158', '2_FFT mean coefficient_159', '2_FFT mean coefficient_16', '2_FFT mean coefficient_160', '2_FFT mean coefficient_161', '2_FFT mean coefficient_162', '2_FFT mean coefficient_163', '2_FFT mean coefficient_164', '2_FFT mean coefficient_165', '2_FFT mean coefficient_166', '2_FFT mean coefficient_167', '2_FFT mean coefficient_168', '2_FFT mean coefficient_169', '2_FFT mean coefficient_17', '2_FFT mean coefficient_170', '2_FFT mean coefficient_171', '2_FFT mean coefficient_172', '2_FFT mean coefficient_173', '2_FFT mean coefficient_174', '2_FFT mean coefficient_175', '2_FFT mean coefficient_176', '2_FFT mean coefficient_177', '2_FFT mean coefficient_178', '2_FFT mean coefficient_179', '2_FFT mean coefficient_18', '2_FFT mean coefficient_180', '2_FFT mean coefficient_181', '2_FFT mean coefficient_182', '2_FFT mean coefficient_183', '2_FFT mean coefficient_184', '2_FFT mean coefficient_185', '2_FFT mean coefficient_186', '2_FFT mean coefficient_187', '2_FFT mean coefficient_188', '2_FFT mean coefficient_189', '2_FFT mean coefficient_19', '2_FFT mean coefficient_190', '2_FFT mean coefficient_191', '2_FFT mean coefficient_192', '2_FFT mean coefficient_193', '2_FFT mean coefficient_194', '2_FFT mean coefficient_195', '2_FFT mean coefficient_196', '2_FFT mean coefficient_197', '2_FFT mean coefficient_198', '2_FFT mean coefficient_199', '2_FFT mean coefficient_2', '2_FFT mean coefficient_20', '2_FFT mean coefficient_200', '2_FFT mean coefficient_201', '2_FFT mean coefficient_202', '2_FFT mean coefficient_203', '2_FFT mean coefficient_204', '2_FFT mean coefficient_205', '2_FFT mean coefficient_206', '2_FFT mean coefficient_207', '2_FFT mean coefficient_208', '2_FFT mean coefficient_209', '2_FFT mean coefficient_21', '2_FFT mean coefficient_210', '2_FFT mean coefficient_211', '2_FFT mean coefficient_212', '2_FFT mean coefficient_214', '2_FFT mean coefficient_22', '2_FFT mean coefficient_23', '2_FFT mean coefficient_24', '2_FFT mean coefficient_25', '2_FFT mean coefficient_26', '2_FFT mean coefficient_27', '2_FFT mean coefficient_28', '2_FFT mean coefficient_29', '2_FFT mean coefficient_3', '2_FFT mean coefficient_30', '2_FFT mean coefficient_31', '2_FFT mean coefficient_32', '2_FFT mean coefficient_33', '2_FFT mean coefficient_34', '2_FFT mean coefficient_35', '2_FFT mean coefficient_36', '2_FFT mean coefficient_37', '2_FFT mean coefficient_38', '2_FFT mean coefficient_39', '2_FFT mean coefficient_4', '2_FFT mean coefficient_40', '2_FFT mean coefficient_41', '2_FFT mean coefficient_42', '2_FFT mean coefficient_43', '2_FFT mean coefficient_44', '2_FFT mean coefficient_45', '2_FFT mean coefficient_46', '2_FFT mean coefficient_47', '2_FFT mean coefficient_48', '2_FFT mean coefficient_49', '2_FFT mean coefficient_50', '2_FFT mean coefficient_51', '2_FFT mean coefficient_52', '2_FFT mean coefficient_53', '2_FFT mean coefficient_54', '2_FFT mean coefficient_55', '2_FFT mean coefficient_56', '2_FFT mean coefficient_57', '2_FFT mean coefficient_58', '2_FFT mean coefficient_59', '2_FFT mean coefficient_6', '2_FFT mean coefficient_60', '2_FFT mean coefficient_61', '2_FFT mean coefficient_62', '2_FFT mean coefficient_63', '2_FFT mean coefficient_64', '2_FFT mean coefficient_65', '2_FFT mean coefficient_66', '2_FFT mean coefficient_67', '2_FFT mean coefficient_68', '2_FFT mean coefficient_69', '2_FFT mean coefficient_7', '2_FFT mean coefficient_70', '2_FFT mean coefficient_71', '2_FFT mean coefficient_72', '2_FFT mean coefficient_73', '2_FFT mean coefficient_74', '2_FFT mean coefficient_75', '2_FFT mean coefficient_76', '2_FFT mean coefficient_77', '2_FFT mean coefficient_78', '2_FFT mean coefficient_79', '2_FFT mean coefficient_8', '2_FFT mean coefficient_80', '2_FFT mean coefficient_81', '2_FFT mean coefficient_82', '2_FFT mean coefficient_83', '2_FFT mean coefficient_84', '2_FFT mean coefficient_85', '2_FFT mean coefficient_86', '2_FFT mean coefficient_87', '2_FFT mean coefficient_88', '2_FFT mean coefficient_89', '2_FFT mean coefficient_9', '2_FFT mean coefficient_90', '2_FFT mean coefficient_91', '2_FFT mean coefficient_92', '2_FFT mean coefficient_93', '2_FFT mean coefficient_94', '2_FFT mean coefficient_95', '2_FFT mean coefficient_96', '2_FFT mean coefficient_97', '2_FFT mean coefficient_98', '2_FFT mean coefficient_99', '2_Fundamental frequency', '2_Histogram_0', '2_Histogram_1', '2_Histogram_2', '2_Histogram_3', '2_Histogram_4', '2_Histogram_5', '2_Histogram_6', '2_Histogram_7', '2_Histogram_8', '2_Histogram_9', '2_Human range energy', '2_Interquartile range', '2_Kurtosis', '2_LPCC_0', '2_LPCC_1', '2_LPCC_3', '2_MFCC_0', '2_MFCC_1', '2_MFCC_10', '2_MFCC_11', '2_MFCC_2', '2_MFCC_4', '2_MFCC_5', '2_MFCC_6', '2_MFCC_7', '2_MFCC_8', '2_MFCC_9', '2_Max', '2_Max power spectrum', '2_Maximum frequency', '2_Mean absolute diff', '2_Mean diff', '2_Median diff', '2_Median frequency', '2_Min', '2_Negative turning points', '2_Neighbourhood peaks', '2_Power bandwidth', '2_Signal distance', '2_Skewness', '2_Slope', '2_Spectral decrease', '2_Spectral distance', '2_Spectral entropy', '2_Spectral positive turning points', '2_Spectral roll-on', '2_Spectral variation', '2_Wavelet entropy', '2_Wavelet variance_2', '2_Zero crossing rate']\n"
     ]
    }
   ],
   "source": [
    "import json\n",
    "import pickle\n",
    "\n",
    "with open('variable.json', 'r') as f:\n",
    "    data = json.load(f)\n",
    "columns = data['my_variable']\n",
    "print(len(columns))  # Output: Hello, World!\n",
    "\n",
    "with open('scaler.pkl', 'rb') as f:\n",
    "    scaler = pickle.load(f)\n",
    "\n",
    "with open('PCA.pkl', 'rb') as f:\n",
    "    pca = pickle.load(f)\n",
    "\n",
    "with open('dt2_model.sav', 'rb') as f:\n",
    "    dt2 = pickle.load(f)\n",
    "\n",
    "print(type(pca))\n",
    "print(type(scaler))\n",
    "print(type(dt2))\n",
    "\n",
    "print(columns)"
   ]
  },
  {
   "cell_type": "code",
   "execution_count": 17,
   "metadata": {},
   "outputs": [
    {
     "name": "stdout",
     "output_type": "stream",
     "text": [
      "*** Feature extraction started ***\n"
     ]
    },
    {
     "data": {
      "text/html": [
       "\n",
       "              <p>\n",
       "                  Progress: 0% Complete\n",
       "              <p/>\n",
       "              <progress\n",
       "                  value='0'\n",
       "                  max='24',\n",
       "                  style='width: 25%',\n",
       "              >\n",
       "                  0\n",
       "              </progress>\n",
       "\n",
       "    "
      ],
      "text/plain": [
       "<IPython.core.display.HTML object>"
      ]
     },
     "metadata": {},
     "output_type": "display_data"
    },
    {
     "ename": "KeyboardInterrupt",
     "evalue": "",
     "output_type": "error",
     "traceback": [
      "\u001b[1;31m---------------------------------------------------------------------------\u001b[0m",
      "\u001b[1;31mIndexError\u001b[0m                                Traceback (most recent call last)",
      "File \u001b[1;32mc:\\Users\\Soham\\anaconda3\\Lib\\multiprocessing\\pool.py:856\u001b[0m, in \u001b[0;36mIMapIterator.next\u001b[1;34m(self, timeout)\u001b[0m\n\u001b[0;32m    855\u001b[0m \u001b[38;5;28;01mtry\u001b[39;00m:\n\u001b[1;32m--> 856\u001b[0m     item \u001b[38;5;241m=\u001b[39m \u001b[38;5;28mself\u001b[39m\u001b[38;5;241m.\u001b[39m_items\u001b[38;5;241m.\u001b[39mpopleft()\n\u001b[0;32m    857\u001b[0m \u001b[38;5;28;01mexcept\u001b[39;00m \u001b[38;5;167;01mIndexError\u001b[39;00m:\n",
      "\u001b[1;31mIndexError\u001b[0m: pop from an empty deque",
      "\nDuring handling of the above exception, another exception occurred:\n",
      "\u001b[1;31mKeyboardInterrupt\u001b[0m                         Traceback (most recent call last)",
      "Cell \u001b[1;32mIn[17], line 7\u001b[0m\n\u001b[0;32m      5\u001b[0m \u001b[38;5;66;03m# Extract features using TSFEL\u001b[39;00m\n\u001b[0;32m      6\u001b[0m cfg \u001b[38;5;241m=\u001b[39m tsfel\u001b[38;5;241m.\u001b[39mget_features_by_domain()  \u001b[38;5;66;03m# Get all features by default\u001b[39;00m\n\u001b[1;32m----> 7\u001b[0m X_test_tsfel \u001b[38;5;241m=\u001b[39m tsfel\u001b[38;5;241m.\u001b[39mtime_series_features_extractor(cfg, X_test, verbose\u001b[38;5;241m=\u001b[39m\u001b[38;5;241m1\u001b[39m, fs\u001b[38;5;241m=\u001b[39m\u001b[38;5;241m50\u001b[39m)\n\u001b[0;32m      9\u001b[0m \u001b[38;5;66;03m# Convert to DataFrame to retain column names\u001b[39;00m\n\u001b[0;32m     10\u001b[0m X_test_tsfel_df \u001b[38;5;241m=\u001b[39m pd\u001b[38;5;241m.\u001b[39mDataFrame(X_test_tsfel)\n",
      "File \u001b[1;32mc:\\Users\\Soham\\anaconda3\\Lib\\site-packages\\tsfel\\feature_extraction\\calc_features.py:347\u001b[0m, in \u001b[0;36mtime_series_features_extractor\u001b[1;34m(dict_features, signal_windows, fs, verbose, **kwargs)\u001b[0m\n\u001b[0;32m    335\u001b[0m pool \u001b[38;5;241m=\u001b[39m mp\u001b[38;5;241m.\u001b[39mPool(cpu_count)\n\u001b[0;32m    336\u001b[0m features \u001b[38;5;241m=\u001b[39m pool\u001b[38;5;241m.\u001b[39mimap(\n\u001b[0;32m    337\u001b[0m     partial(\n\u001b[0;32m    338\u001b[0m         calc_features,\n\u001b[1;32m   (...)\u001b[0m\n\u001b[0;32m    344\u001b[0m     signal_windows,\n\u001b[0;32m    345\u001b[0m )\n\u001b[1;32m--> 347\u001b[0m \u001b[38;5;28;01mfor\u001b[39;00m i, feat \u001b[38;5;129;01min\u001b[39;00m \u001b[38;5;28menumerate\u001b[39m(features):\n\u001b[0;32m    348\u001b[0m     \u001b[38;5;28;01mif\u001b[39;00m verbose \u001b[38;5;241m==\u001b[39m \u001b[38;5;241m1\u001b[39m:\n\u001b[0;32m    349\u001b[0m         display_progress_bar(i, \u001b[38;5;28mlen\u001b[39m(signal_windows), out)\n",
      "File \u001b[1;32mc:\\Users\\Soham\\anaconda3\\Lib\\multiprocessing\\pool.py:861\u001b[0m, in \u001b[0;36mIMapIterator.next\u001b[1;34m(self, timeout)\u001b[0m\n\u001b[0;32m    859\u001b[0m     \u001b[38;5;28mself\u001b[39m\u001b[38;5;241m.\u001b[39m_pool \u001b[38;5;241m=\u001b[39m \u001b[38;5;28;01mNone\u001b[39;00m\n\u001b[0;32m    860\u001b[0m     \u001b[38;5;28;01mraise\u001b[39;00m \u001b[38;5;167;01mStopIteration\u001b[39;00m \u001b[38;5;28;01mfrom\u001b[39;00m \u001b[38;5;28;01mNone\u001b[39;00m\n\u001b[1;32m--> 861\u001b[0m \u001b[38;5;28mself\u001b[39m\u001b[38;5;241m.\u001b[39m_cond\u001b[38;5;241m.\u001b[39mwait(timeout)\n\u001b[0;32m    862\u001b[0m \u001b[38;5;28;01mtry\u001b[39;00m:\n\u001b[0;32m    863\u001b[0m     item \u001b[38;5;241m=\u001b[39m \u001b[38;5;28mself\u001b[39m\u001b[38;5;241m.\u001b[39m_items\u001b[38;5;241m.\u001b[39mpopleft()\n",
      "File \u001b[1;32mc:\\Users\\Soham\\anaconda3\\Lib\\threading.py:355\u001b[0m, in \u001b[0;36mCondition.wait\u001b[1;34m(self, timeout)\u001b[0m\n\u001b[0;32m    353\u001b[0m \u001b[38;5;28;01mtry\u001b[39;00m:    \u001b[38;5;66;03m# restore state no matter what (e.g., KeyboardInterrupt)\u001b[39;00m\n\u001b[0;32m    354\u001b[0m     \u001b[38;5;28;01mif\u001b[39;00m timeout \u001b[38;5;129;01mis\u001b[39;00m \u001b[38;5;28;01mNone\u001b[39;00m:\n\u001b[1;32m--> 355\u001b[0m         waiter\u001b[38;5;241m.\u001b[39macquire()\n\u001b[0;32m    356\u001b[0m         gotit \u001b[38;5;241m=\u001b[39m \u001b[38;5;28;01mTrue\u001b[39;00m\n\u001b[0;32m    357\u001b[0m     \u001b[38;5;28;01melse\u001b[39;00m:\n",
      "\u001b[1;31mKeyboardInterrupt\u001b[0m: "
     ]
    }
   ],
   "source": [
    "\n",
    "import tsfel\n",
    "import numpy as np\n",
    "import pandas as pd\n",
    "\n",
    "# Extract features using TSFEL\n",
    "cfg = tsfel.get_features_by_domain()  # Get all features by default\n",
    "X_test_tsfel = tsfel.time_series_features_extractor(cfg, X_test, verbose=1, fs=50)\n",
    "\n",
    "# Convert to DataFrame to retain column names\n",
    "X_test_tsfel_df = pd.DataFrame(X_test_tsfel)\n",
    "print(X_test_tsfel_df.columns)\n",
    "X_test_normalized_columns = columns\n",
    "# Find the intersection\n",
    "matching_columns = [col for col in columns if col in X_test_tsfel_df.columns]\n",
    "print(\"Matching columns in X_test_real_tsfel:\")\n",
    "print(matching_columns)\n",
    "# Filter X_test_real_tsfel_df to include only the matching columns\n",
    "X_test_real_tsfel_filtered_df = X_test_tsfel_df[matching_columns]\n",
    "print(\"Shape of filtered X_test_real_tsfel:\")\n",
    "print(X_test_real_tsfel_filtered_df.shape)"
   ]
  },
  {
   "cell_type": "code",
   "execution_count": null,
   "metadata": {},
   "outputs": [
    {
     "name": "stdout",
     "output_type": "stream",
     "text": [
      "X_test_pca shape:  (24, 20)\n",
      "X_train_pca_20 shape:  (126, 20)\n",
      "y_train shape:  (126,)\n"
     ]
    },
    {
     "name": "stderr",
     "output_type": "stream",
     "text": [
      "c:\\Users\\Soham\\anaconda3\\Lib\\site-packages\\sklearn\\base.py:493: UserWarning: X does not have valid feature names, but StandardScaler was fitted with feature names\n",
      "  warnings.warn(\n"
     ]
    }
   ],
   "source": [
    "\n",
    "X_test_real_tsfel = X_test_real_tsfel_filtered_df.to_numpy()\n",
    "X_test_normalized_real = scaler.transform(X_test_real_tsfel)\n",
    "# Apply PCA\n",
    "X_test_pca_20 = pca.transform(X_test_normalized_real)\n",
    "print(\"X_test_pca shape: \", X_test_pca_20.shape)\n",
    "\n",
    "\n",
    "with open('../Task3/X_train_pca_20.json', 'r') as f:\n",
    "    data = json.load(f)\n",
    "    X_train_pca_20 = np.array(data['X_train_pca_20'])\n",
    "\n",
    "# Load the y_train data\n",
    "with open('../Task3/y_train.json', 'r') as f:\n",
    "    data = json.load(f)\n",
    "    y_train = np.array(data['y_train'])\n",
    "\n",
    "print(\"X_train_pca_20 shape: \", X_train_pca_20.shape)\n",
    "print(\"y_train shape: \", y_train.shape)"
   ]
  },
  {
   "cell_type": "code",
   "execution_count": 22,
   "metadata": {},
   "outputs": [
    {
     "name": "stdout",
     "output_type": "stream",
     "text": [
      "Rate limit error: Error code: 503 - {'error': {'message': 'Service Unavailable', 'type': 'internal_server_error'}}. Retrying in 10 seconds...\n"
     ]
    },
    {
     "ename": "KeyboardInterrupt",
     "evalue": "",
     "output_type": "error",
     "traceback": [
      "\u001b[1;31m---------------------------------------------------------------------------\u001b[0m",
      "\u001b[1;31mKeyboardInterrupt\u001b[0m                         Traceback (most recent call last)",
      "Cell \u001b[1;32mIn[22], line 91\u001b[0m\n\u001b[0;32m     88\u001b[0m prompt \u001b[38;5;241m=\u001b[39m create_few_shot_prompt(few_shot_examples, query_input)\n\u001b[0;32m     90\u001b[0m \u001b[38;5;66;03m# Make the API call and store the prediction\u001b[39;00m\n\u001b[1;32m---> 91\u001b[0m answer \u001b[38;5;241m=\u001b[39m make_api_call(prompt)\n\u001b[0;32m     92\u001b[0m predicted_label \u001b[38;5;241m=\u001b[39m \u001b[38;5;28mint\u001b[39m(answer\u001b[38;5;241m.\u001b[39mcontent\u001b[38;5;241m.\u001b[39mstrip())\n\u001b[0;32m     93\u001b[0m predictions\u001b[38;5;241m.\u001b[39mappend(predicted_label)\n",
      "Cell \u001b[1;32mIn[22], line 13\u001b[0m, in \u001b[0;36mmake_api_call\u001b[1;34m(prompt)\u001b[0m\n\u001b[0;32m     11\u001b[0m \u001b[38;5;28;01mwhile\u001b[39;00m \u001b[38;5;28;01mTrue\u001b[39;00m:\n\u001b[0;32m     12\u001b[0m     \u001b[38;5;28;01mtry\u001b[39;00m:\n\u001b[1;32m---> 13\u001b[0m         response \u001b[38;5;241m=\u001b[39m llm\u001b[38;5;241m.\u001b[39minvoke(prompt)\n\u001b[0;32m     14\u001b[0m         \u001b[38;5;28;01mreturn\u001b[39;00m response\n\u001b[0;32m     15\u001b[0m     \u001b[38;5;28;01mexcept\u001b[39;00m \u001b[38;5;167;01mException\u001b[39;00m \u001b[38;5;28;01mas\u001b[39;00m e:\n",
      "File \u001b[1;32mc:\\Users\\Soham\\anaconda3\\Lib\\site-packages\\langchain_core\\language_models\\chat_models.py:276\u001b[0m, in \u001b[0;36mBaseChatModel.invoke\u001b[1;34m(self, input, config, stop, **kwargs)\u001b[0m\n\u001b[0;32m    265\u001b[0m \u001b[38;5;28;01mdef\u001b[39;00m \u001b[38;5;21minvoke\u001b[39m(\n\u001b[0;32m    266\u001b[0m     \u001b[38;5;28mself\u001b[39m,\n\u001b[0;32m    267\u001b[0m     \u001b[38;5;28minput\u001b[39m: LanguageModelInput,\n\u001b[1;32m   (...)\u001b[0m\n\u001b[0;32m    271\u001b[0m     \u001b[38;5;241m*\u001b[39m\u001b[38;5;241m*\u001b[39mkwargs: Any,\n\u001b[0;32m    272\u001b[0m ) \u001b[38;5;241m-\u001b[39m\u001b[38;5;241m>\u001b[39m BaseMessage:\n\u001b[0;32m    273\u001b[0m     config \u001b[38;5;241m=\u001b[39m ensure_config(config)\n\u001b[0;32m    274\u001b[0m     \u001b[38;5;28;01mreturn\u001b[39;00m cast(\n\u001b[0;32m    275\u001b[0m         ChatGeneration,\n\u001b[1;32m--> 276\u001b[0m         \u001b[38;5;28mself\u001b[39m\u001b[38;5;241m.\u001b[39mgenerate_prompt(\n\u001b[0;32m    277\u001b[0m             [\u001b[38;5;28mself\u001b[39m\u001b[38;5;241m.\u001b[39m_convert_input(\u001b[38;5;28minput\u001b[39m)],\n\u001b[0;32m    278\u001b[0m             stop\u001b[38;5;241m=\u001b[39mstop,\n\u001b[0;32m    279\u001b[0m             callbacks\u001b[38;5;241m=\u001b[39mconfig\u001b[38;5;241m.\u001b[39mget(\u001b[38;5;124m\"\u001b[39m\u001b[38;5;124mcallbacks\u001b[39m\u001b[38;5;124m\"\u001b[39m),\n\u001b[0;32m    280\u001b[0m             tags\u001b[38;5;241m=\u001b[39mconfig\u001b[38;5;241m.\u001b[39mget(\u001b[38;5;124m\"\u001b[39m\u001b[38;5;124mtags\u001b[39m\u001b[38;5;124m\"\u001b[39m),\n\u001b[0;32m    281\u001b[0m             metadata\u001b[38;5;241m=\u001b[39mconfig\u001b[38;5;241m.\u001b[39mget(\u001b[38;5;124m\"\u001b[39m\u001b[38;5;124mmetadata\u001b[39m\u001b[38;5;124m\"\u001b[39m),\n\u001b[0;32m    282\u001b[0m             run_name\u001b[38;5;241m=\u001b[39mconfig\u001b[38;5;241m.\u001b[39mget(\u001b[38;5;124m\"\u001b[39m\u001b[38;5;124mrun_name\u001b[39m\u001b[38;5;124m\"\u001b[39m),\n\u001b[0;32m    283\u001b[0m             run_id\u001b[38;5;241m=\u001b[39mconfig\u001b[38;5;241m.\u001b[39mpop(\u001b[38;5;124m\"\u001b[39m\u001b[38;5;124mrun_id\u001b[39m\u001b[38;5;124m\"\u001b[39m, \u001b[38;5;28;01mNone\u001b[39;00m),\n\u001b[0;32m    284\u001b[0m             \u001b[38;5;241m*\u001b[39m\u001b[38;5;241m*\u001b[39mkwargs,\n\u001b[0;32m    285\u001b[0m         )\u001b[38;5;241m.\u001b[39mgenerations[\u001b[38;5;241m0\u001b[39m][\u001b[38;5;241m0\u001b[39m],\n\u001b[0;32m    286\u001b[0m     )\u001b[38;5;241m.\u001b[39mmessage\n",
      "File \u001b[1;32mc:\\Users\\Soham\\anaconda3\\Lib\\site-packages\\langchain_core\\language_models\\chat_models.py:776\u001b[0m, in \u001b[0;36mBaseChatModel.generate_prompt\u001b[1;34m(self, prompts, stop, callbacks, **kwargs)\u001b[0m\n\u001b[0;32m    768\u001b[0m \u001b[38;5;28;01mdef\u001b[39;00m \u001b[38;5;21mgenerate_prompt\u001b[39m(\n\u001b[0;32m    769\u001b[0m     \u001b[38;5;28mself\u001b[39m,\n\u001b[0;32m    770\u001b[0m     prompts: List[PromptValue],\n\u001b[1;32m   (...)\u001b[0m\n\u001b[0;32m    773\u001b[0m     \u001b[38;5;241m*\u001b[39m\u001b[38;5;241m*\u001b[39mkwargs: Any,\n\u001b[0;32m    774\u001b[0m ) \u001b[38;5;241m-\u001b[39m\u001b[38;5;241m>\u001b[39m LLMResult:\n\u001b[0;32m    775\u001b[0m     prompt_messages \u001b[38;5;241m=\u001b[39m [p\u001b[38;5;241m.\u001b[39mto_messages() \u001b[38;5;28;01mfor\u001b[39;00m p \u001b[38;5;129;01min\u001b[39;00m prompts]\n\u001b[1;32m--> 776\u001b[0m     \u001b[38;5;28;01mreturn\u001b[39;00m \u001b[38;5;28mself\u001b[39m\u001b[38;5;241m.\u001b[39mgenerate(prompt_messages, stop\u001b[38;5;241m=\u001b[39mstop, callbacks\u001b[38;5;241m=\u001b[39mcallbacks, \u001b[38;5;241m*\u001b[39m\u001b[38;5;241m*\u001b[39mkwargs)\n",
      "File \u001b[1;32mc:\\Users\\Soham\\anaconda3\\Lib\\site-packages\\langchain_core\\language_models\\chat_models.py:633\u001b[0m, in \u001b[0;36mBaseChatModel.generate\u001b[1;34m(self, messages, stop, callbacks, tags, metadata, run_name, run_id, **kwargs)\u001b[0m\n\u001b[0;32m    631\u001b[0m         \u001b[38;5;28;01mif\u001b[39;00m run_managers:\n\u001b[0;32m    632\u001b[0m             run_managers[i]\u001b[38;5;241m.\u001b[39mon_llm_error(e, response\u001b[38;5;241m=\u001b[39mLLMResult(generations\u001b[38;5;241m=\u001b[39m[]))\n\u001b[1;32m--> 633\u001b[0m         \u001b[38;5;28;01mraise\u001b[39;00m e\n\u001b[0;32m    634\u001b[0m flattened_outputs \u001b[38;5;241m=\u001b[39m [\n\u001b[0;32m    635\u001b[0m     LLMResult(generations\u001b[38;5;241m=\u001b[39m[res\u001b[38;5;241m.\u001b[39mgenerations], llm_output\u001b[38;5;241m=\u001b[39mres\u001b[38;5;241m.\u001b[39mllm_output)  \u001b[38;5;66;03m# type: ignore[list-item]\u001b[39;00m\n\u001b[0;32m    636\u001b[0m     \u001b[38;5;28;01mfor\u001b[39;00m res \u001b[38;5;129;01min\u001b[39;00m results\n\u001b[0;32m    637\u001b[0m ]\n\u001b[0;32m    638\u001b[0m llm_output \u001b[38;5;241m=\u001b[39m \u001b[38;5;28mself\u001b[39m\u001b[38;5;241m.\u001b[39m_combine_llm_outputs([res\u001b[38;5;241m.\u001b[39mllm_output \u001b[38;5;28;01mfor\u001b[39;00m res \u001b[38;5;129;01min\u001b[39;00m results])\n",
      "File \u001b[1;32mc:\\Users\\Soham\\anaconda3\\Lib\\site-packages\\langchain_core\\language_models\\chat_models.py:623\u001b[0m, in \u001b[0;36mBaseChatModel.generate\u001b[1;34m(self, messages, stop, callbacks, tags, metadata, run_name, run_id, **kwargs)\u001b[0m\n\u001b[0;32m    620\u001b[0m \u001b[38;5;28;01mfor\u001b[39;00m i, m \u001b[38;5;129;01min\u001b[39;00m \u001b[38;5;28menumerate\u001b[39m(messages):\n\u001b[0;32m    621\u001b[0m     \u001b[38;5;28;01mtry\u001b[39;00m:\n\u001b[0;32m    622\u001b[0m         results\u001b[38;5;241m.\u001b[39mappend(\n\u001b[1;32m--> 623\u001b[0m             \u001b[38;5;28mself\u001b[39m\u001b[38;5;241m.\u001b[39m_generate_with_cache(\n\u001b[0;32m    624\u001b[0m                 m,\n\u001b[0;32m    625\u001b[0m                 stop\u001b[38;5;241m=\u001b[39mstop,\n\u001b[0;32m    626\u001b[0m                 run_manager\u001b[38;5;241m=\u001b[39mrun_managers[i] \u001b[38;5;28;01mif\u001b[39;00m run_managers \u001b[38;5;28;01melse\u001b[39;00m \u001b[38;5;28;01mNone\u001b[39;00m,\n\u001b[0;32m    627\u001b[0m                 \u001b[38;5;241m*\u001b[39m\u001b[38;5;241m*\u001b[39mkwargs,\n\u001b[0;32m    628\u001b[0m             )\n\u001b[0;32m    629\u001b[0m         )\n\u001b[0;32m    630\u001b[0m     \u001b[38;5;28;01mexcept\u001b[39;00m \u001b[38;5;167;01mBaseException\u001b[39;00m \u001b[38;5;28;01mas\u001b[39;00m e:\n\u001b[0;32m    631\u001b[0m         \u001b[38;5;28;01mif\u001b[39;00m run_managers:\n",
      "File \u001b[1;32mc:\\Users\\Soham\\anaconda3\\Lib\\site-packages\\langchain_core\\language_models\\chat_models.py:845\u001b[0m, in \u001b[0;36mBaseChatModel._generate_with_cache\u001b[1;34m(self, messages, stop, run_manager, **kwargs)\u001b[0m\n\u001b[0;32m    843\u001b[0m \u001b[38;5;28;01melse\u001b[39;00m:\n\u001b[0;32m    844\u001b[0m     \u001b[38;5;28;01mif\u001b[39;00m inspect\u001b[38;5;241m.\u001b[39msignature(\u001b[38;5;28mself\u001b[39m\u001b[38;5;241m.\u001b[39m_generate)\u001b[38;5;241m.\u001b[39mparameters\u001b[38;5;241m.\u001b[39mget(\u001b[38;5;124m\"\u001b[39m\u001b[38;5;124mrun_manager\u001b[39m\u001b[38;5;124m\"\u001b[39m):\n\u001b[1;32m--> 845\u001b[0m         result \u001b[38;5;241m=\u001b[39m \u001b[38;5;28mself\u001b[39m\u001b[38;5;241m.\u001b[39m_generate(\n\u001b[0;32m    846\u001b[0m             messages, stop\u001b[38;5;241m=\u001b[39mstop, run_manager\u001b[38;5;241m=\u001b[39mrun_manager, \u001b[38;5;241m*\u001b[39m\u001b[38;5;241m*\u001b[39mkwargs\n\u001b[0;32m    847\u001b[0m         )\n\u001b[0;32m    848\u001b[0m     \u001b[38;5;28;01melse\u001b[39;00m:\n\u001b[0;32m    849\u001b[0m         result \u001b[38;5;241m=\u001b[39m \u001b[38;5;28mself\u001b[39m\u001b[38;5;241m.\u001b[39m_generate(messages, stop\u001b[38;5;241m=\u001b[39mstop, \u001b[38;5;241m*\u001b[39m\u001b[38;5;241m*\u001b[39mkwargs)\n",
      "File \u001b[1;32mc:\\Users\\Soham\\anaconda3\\Lib\\site-packages\\langchain_groq\\chat_models.py:472\u001b[0m, in \u001b[0;36mChatGroq._generate\u001b[1;34m(self, messages, stop, run_manager, **kwargs)\u001b[0m\n\u001b[0;32m    467\u001b[0m message_dicts, params \u001b[38;5;241m=\u001b[39m \u001b[38;5;28mself\u001b[39m\u001b[38;5;241m.\u001b[39m_create_message_dicts(messages, stop)\n\u001b[0;32m    468\u001b[0m params \u001b[38;5;241m=\u001b[39m {\n\u001b[0;32m    469\u001b[0m     \u001b[38;5;241m*\u001b[39m\u001b[38;5;241m*\u001b[39mparams,\n\u001b[0;32m    470\u001b[0m     \u001b[38;5;241m*\u001b[39m\u001b[38;5;241m*\u001b[39mkwargs,\n\u001b[0;32m    471\u001b[0m }\n\u001b[1;32m--> 472\u001b[0m response \u001b[38;5;241m=\u001b[39m \u001b[38;5;28mself\u001b[39m\u001b[38;5;241m.\u001b[39mclient\u001b[38;5;241m.\u001b[39mcreate(messages\u001b[38;5;241m=\u001b[39mmessage_dicts, \u001b[38;5;241m*\u001b[39m\u001b[38;5;241m*\u001b[39mparams)\n\u001b[0;32m    473\u001b[0m \u001b[38;5;28;01mreturn\u001b[39;00m \u001b[38;5;28mself\u001b[39m\u001b[38;5;241m.\u001b[39m_create_chat_result(response)\n",
      "File \u001b[1;32mc:\\Users\\Soham\\anaconda3\\Lib\\site-packages\\groq\\resources\\chat\\completions.py:289\u001b[0m, in \u001b[0;36mCompletions.create\u001b[1;34m(self, messages, model, frequency_penalty, function_call, functions, logit_bias, logprobs, max_tokens, n, parallel_tool_calls, presence_penalty, response_format, seed, stop, stream, temperature, tool_choice, tools, top_logprobs, top_p, user, extra_headers, extra_query, extra_body, timeout)\u001b[0m\n\u001b[0;32m    148\u001b[0m \u001b[38;5;28;01mdef\u001b[39;00m \u001b[38;5;21mcreate\u001b[39m(\n\u001b[0;32m    149\u001b[0m     \u001b[38;5;28mself\u001b[39m,\n\u001b[0;32m    150\u001b[0m     \u001b[38;5;241m*\u001b[39m,\n\u001b[1;32m   (...)\u001b[0m\n\u001b[0;32m    177\u001b[0m     timeout: \u001b[38;5;28mfloat\u001b[39m \u001b[38;5;241m|\u001b[39m httpx\u001b[38;5;241m.\u001b[39mTimeout \u001b[38;5;241m|\u001b[39m \u001b[38;5;28;01mNone\u001b[39;00m \u001b[38;5;241m|\u001b[39m NotGiven \u001b[38;5;241m=\u001b[39m NOT_GIVEN,\n\u001b[0;32m    178\u001b[0m ) \u001b[38;5;241m-\u001b[39m\u001b[38;5;241m>\u001b[39m ChatCompletion \u001b[38;5;241m|\u001b[39m Stream[ChatCompletionChunk]:\n\u001b[0;32m    179\u001b[0m \u001b[38;5;250m    \u001b[39m\u001b[38;5;124;03m\"\"\"\u001b[39;00m\n\u001b[0;32m    180\u001b[0m \u001b[38;5;124;03m    Creates a model response for the given chat conversation.\u001b[39;00m\n\u001b[0;32m    181\u001b[0m \n\u001b[1;32m   (...)\u001b[0m\n\u001b[0;32m    287\u001b[0m \u001b[38;5;124;03m      timeout: Override the client-level default timeout for this request, in seconds\u001b[39;00m\n\u001b[0;32m    288\u001b[0m \u001b[38;5;124;03m    \"\"\"\u001b[39;00m\n\u001b[1;32m--> 289\u001b[0m     \u001b[38;5;28;01mreturn\u001b[39;00m \u001b[38;5;28mself\u001b[39m\u001b[38;5;241m.\u001b[39m_post(\n\u001b[0;32m    290\u001b[0m         \u001b[38;5;124m\"\u001b[39m\u001b[38;5;124m/openai/v1/chat/completions\u001b[39m\u001b[38;5;124m\"\u001b[39m,\n\u001b[0;32m    291\u001b[0m         body\u001b[38;5;241m=\u001b[39mmaybe_transform(\n\u001b[0;32m    292\u001b[0m             {\n\u001b[0;32m    293\u001b[0m                 \u001b[38;5;124m\"\u001b[39m\u001b[38;5;124mmessages\u001b[39m\u001b[38;5;124m\"\u001b[39m: messages,\n\u001b[0;32m    294\u001b[0m                 \u001b[38;5;124m\"\u001b[39m\u001b[38;5;124mmodel\u001b[39m\u001b[38;5;124m\"\u001b[39m: model,\n\u001b[0;32m    295\u001b[0m                 \u001b[38;5;124m\"\u001b[39m\u001b[38;5;124mfrequency_penalty\u001b[39m\u001b[38;5;124m\"\u001b[39m: frequency_penalty,\n\u001b[0;32m    296\u001b[0m                 \u001b[38;5;124m\"\u001b[39m\u001b[38;5;124mfunction_call\u001b[39m\u001b[38;5;124m\"\u001b[39m: function_call,\n\u001b[0;32m    297\u001b[0m                 \u001b[38;5;124m\"\u001b[39m\u001b[38;5;124mfunctions\u001b[39m\u001b[38;5;124m\"\u001b[39m: functions,\n\u001b[0;32m    298\u001b[0m                 \u001b[38;5;124m\"\u001b[39m\u001b[38;5;124mlogit_bias\u001b[39m\u001b[38;5;124m\"\u001b[39m: logit_bias,\n\u001b[0;32m    299\u001b[0m                 \u001b[38;5;124m\"\u001b[39m\u001b[38;5;124mlogprobs\u001b[39m\u001b[38;5;124m\"\u001b[39m: logprobs,\n\u001b[0;32m    300\u001b[0m                 \u001b[38;5;124m\"\u001b[39m\u001b[38;5;124mmax_tokens\u001b[39m\u001b[38;5;124m\"\u001b[39m: max_tokens,\n\u001b[0;32m    301\u001b[0m                 \u001b[38;5;124m\"\u001b[39m\u001b[38;5;124mn\u001b[39m\u001b[38;5;124m\"\u001b[39m: n,\n\u001b[0;32m    302\u001b[0m                 \u001b[38;5;124m\"\u001b[39m\u001b[38;5;124mparallel_tool_calls\u001b[39m\u001b[38;5;124m\"\u001b[39m: parallel_tool_calls,\n\u001b[0;32m    303\u001b[0m                 \u001b[38;5;124m\"\u001b[39m\u001b[38;5;124mpresence_penalty\u001b[39m\u001b[38;5;124m\"\u001b[39m: presence_penalty,\n\u001b[0;32m    304\u001b[0m                 \u001b[38;5;124m\"\u001b[39m\u001b[38;5;124mresponse_format\u001b[39m\u001b[38;5;124m\"\u001b[39m: response_format,\n\u001b[0;32m    305\u001b[0m                 \u001b[38;5;124m\"\u001b[39m\u001b[38;5;124mseed\u001b[39m\u001b[38;5;124m\"\u001b[39m: seed,\n\u001b[0;32m    306\u001b[0m                 \u001b[38;5;124m\"\u001b[39m\u001b[38;5;124mstop\u001b[39m\u001b[38;5;124m\"\u001b[39m: stop,\n\u001b[0;32m    307\u001b[0m                 \u001b[38;5;124m\"\u001b[39m\u001b[38;5;124mstream\u001b[39m\u001b[38;5;124m\"\u001b[39m: stream,\n\u001b[0;32m    308\u001b[0m                 \u001b[38;5;124m\"\u001b[39m\u001b[38;5;124mtemperature\u001b[39m\u001b[38;5;124m\"\u001b[39m: temperature,\n\u001b[0;32m    309\u001b[0m                 \u001b[38;5;124m\"\u001b[39m\u001b[38;5;124mtool_choice\u001b[39m\u001b[38;5;124m\"\u001b[39m: tool_choice,\n\u001b[0;32m    310\u001b[0m                 \u001b[38;5;124m\"\u001b[39m\u001b[38;5;124mtools\u001b[39m\u001b[38;5;124m\"\u001b[39m: tools,\n\u001b[0;32m    311\u001b[0m                 \u001b[38;5;124m\"\u001b[39m\u001b[38;5;124mtop_logprobs\u001b[39m\u001b[38;5;124m\"\u001b[39m: top_logprobs,\n\u001b[0;32m    312\u001b[0m                 \u001b[38;5;124m\"\u001b[39m\u001b[38;5;124mtop_p\u001b[39m\u001b[38;5;124m\"\u001b[39m: top_p,\n\u001b[0;32m    313\u001b[0m                 \u001b[38;5;124m\"\u001b[39m\u001b[38;5;124muser\u001b[39m\u001b[38;5;124m\"\u001b[39m: user,\n\u001b[0;32m    314\u001b[0m             },\n\u001b[0;32m    315\u001b[0m             completion_create_params\u001b[38;5;241m.\u001b[39mCompletionCreateParams,\n\u001b[0;32m    316\u001b[0m         ),\n\u001b[0;32m    317\u001b[0m         options\u001b[38;5;241m=\u001b[39mmake_request_options(\n\u001b[0;32m    318\u001b[0m             extra_headers\u001b[38;5;241m=\u001b[39mextra_headers, extra_query\u001b[38;5;241m=\u001b[39mextra_query, extra_body\u001b[38;5;241m=\u001b[39mextra_body, timeout\u001b[38;5;241m=\u001b[39mtimeout\n\u001b[0;32m    319\u001b[0m         ),\n\u001b[0;32m    320\u001b[0m         cast_to\u001b[38;5;241m=\u001b[39mChatCompletion,\n\u001b[0;32m    321\u001b[0m         stream\u001b[38;5;241m=\u001b[39mstream \u001b[38;5;129;01mor\u001b[39;00m \u001b[38;5;28;01mFalse\u001b[39;00m,\n\u001b[0;32m    322\u001b[0m         stream_cls\u001b[38;5;241m=\u001b[39mStream[ChatCompletionChunk],\n\u001b[0;32m    323\u001b[0m     )\n",
      "File \u001b[1;32mc:\\Users\\Soham\\anaconda3\\Lib\\site-packages\\groq\\_base_client.py:1225\u001b[0m, in \u001b[0;36mSyncAPIClient.post\u001b[1;34m(self, path, cast_to, body, options, files, stream, stream_cls)\u001b[0m\n\u001b[0;32m   1211\u001b[0m \u001b[38;5;28;01mdef\u001b[39;00m \u001b[38;5;21mpost\u001b[39m(\n\u001b[0;32m   1212\u001b[0m     \u001b[38;5;28mself\u001b[39m,\n\u001b[0;32m   1213\u001b[0m     path: \u001b[38;5;28mstr\u001b[39m,\n\u001b[1;32m   (...)\u001b[0m\n\u001b[0;32m   1220\u001b[0m     stream_cls: \u001b[38;5;28mtype\u001b[39m[_StreamT] \u001b[38;5;241m|\u001b[39m \u001b[38;5;28;01mNone\u001b[39;00m \u001b[38;5;241m=\u001b[39m \u001b[38;5;28;01mNone\u001b[39;00m,\n\u001b[0;32m   1221\u001b[0m ) \u001b[38;5;241m-\u001b[39m\u001b[38;5;241m>\u001b[39m ResponseT \u001b[38;5;241m|\u001b[39m _StreamT:\n\u001b[0;32m   1222\u001b[0m     opts \u001b[38;5;241m=\u001b[39m FinalRequestOptions\u001b[38;5;241m.\u001b[39mconstruct(\n\u001b[0;32m   1223\u001b[0m         method\u001b[38;5;241m=\u001b[39m\u001b[38;5;124m\"\u001b[39m\u001b[38;5;124mpost\u001b[39m\u001b[38;5;124m\"\u001b[39m, url\u001b[38;5;241m=\u001b[39mpath, json_data\u001b[38;5;241m=\u001b[39mbody, files\u001b[38;5;241m=\u001b[39mto_httpx_files(files), \u001b[38;5;241m*\u001b[39m\u001b[38;5;241m*\u001b[39moptions\n\u001b[0;32m   1224\u001b[0m     )\n\u001b[1;32m-> 1225\u001b[0m     \u001b[38;5;28;01mreturn\u001b[39;00m cast(ResponseT, \u001b[38;5;28mself\u001b[39m\u001b[38;5;241m.\u001b[39mrequest(cast_to, opts, stream\u001b[38;5;241m=\u001b[39mstream, stream_cls\u001b[38;5;241m=\u001b[39mstream_cls))\n",
      "File \u001b[1;32mc:\\Users\\Soham\\anaconda3\\Lib\\site-packages\\groq\\_base_client.py:920\u001b[0m, in \u001b[0;36mSyncAPIClient.request\u001b[1;34m(self, cast_to, options, remaining_retries, stream, stream_cls)\u001b[0m\n\u001b[0;32m    911\u001b[0m \u001b[38;5;28;01mdef\u001b[39;00m \u001b[38;5;21mrequest\u001b[39m(\n\u001b[0;32m    912\u001b[0m     \u001b[38;5;28mself\u001b[39m,\n\u001b[0;32m    913\u001b[0m     cast_to: Type[ResponseT],\n\u001b[1;32m   (...)\u001b[0m\n\u001b[0;32m    918\u001b[0m     stream_cls: \u001b[38;5;28mtype\u001b[39m[_StreamT] \u001b[38;5;241m|\u001b[39m \u001b[38;5;28;01mNone\u001b[39;00m \u001b[38;5;241m=\u001b[39m \u001b[38;5;28;01mNone\u001b[39;00m,\n\u001b[0;32m    919\u001b[0m ) \u001b[38;5;241m-\u001b[39m\u001b[38;5;241m>\u001b[39m ResponseT \u001b[38;5;241m|\u001b[39m _StreamT:\n\u001b[1;32m--> 920\u001b[0m     \u001b[38;5;28;01mreturn\u001b[39;00m \u001b[38;5;28mself\u001b[39m\u001b[38;5;241m.\u001b[39m_request(\n\u001b[0;32m    921\u001b[0m         cast_to\u001b[38;5;241m=\u001b[39mcast_to,\n\u001b[0;32m    922\u001b[0m         options\u001b[38;5;241m=\u001b[39moptions,\n\u001b[0;32m    923\u001b[0m         stream\u001b[38;5;241m=\u001b[39mstream,\n\u001b[0;32m    924\u001b[0m         stream_cls\u001b[38;5;241m=\u001b[39mstream_cls,\n\u001b[0;32m    925\u001b[0m         remaining_retries\u001b[38;5;241m=\u001b[39mremaining_retries,\n\u001b[0;32m    926\u001b[0m     )\n",
      "File \u001b[1;32mc:\\Users\\Soham\\anaconda3\\Lib\\site-packages\\groq\\_base_client.py:951\u001b[0m, in \u001b[0;36mSyncAPIClient._request\u001b[1;34m(self, cast_to, options, remaining_retries, stream, stream_cls)\u001b[0m\n\u001b[0;32m    948\u001b[0m log\u001b[38;5;241m.\u001b[39mdebug(\u001b[38;5;124m\"\u001b[39m\u001b[38;5;124mSending HTTP Request: \u001b[39m\u001b[38;5;132;01m%s\u001b[39;00m\u001b[38;5;124m \u001b[39m\u001b[38;5;132;01m%s\u001b[39;00m\u001b[38;5;124m\"\u001b[39m, request\u001b[38;5;241m.\u001b[39mmethod, request\u001b[38;5;241m.\u001b[39murl)\n\u001b[0;32m    950\u001b[0m \u001b[38;5;28;01mtry\u001b[39;00m:\n\u001b[1;32m--> 951\u001b[0m     response \u001b[38;5;241m=\u001b[39m \u001b[38;5;28mself\u001b[39m\u001b[38;5;241m.\u001b[39m_client\u001b[38;5;241m.\u001b[39msend(\n\u001b[0;32m    952\u001b[0m         request,\n\u001b[0;32m    953\u001b[0m         stream\u001b[38;5;241m=\u001b[39mstream \u001b[38;5;129;01mor\u001b[39;00m \u001b[38;5;28mself\u001b[39m\u001b[38;5;241m.\u001b[39m_should_stream_response_body(request\u001b[38;5;241m=\u001b[39mrequest),\n\u001b[0;32m    954\u001b[0m         \u001b[38;5;241m*\u001b[39m\u001b[38;5;241m*\u001b[39mkwargs,\n\u001b[0;32m    955\u001b[0m     )\n\u001b[0;32m    956\u001b[0m \u001b[38;5;28;01mexcept\u001b[39;00m httpx\u001b[38;5;241m.\u001b[39mTimeoutException \u001b[38;5;28;01mas\u001b[39;00m err:\n\u001b[0;32m    957\u001b[0m     log\u001b[38;5;241m.\u001b[39mdebug(\u001b[38;5;124m\"\u001b[39m\u001b[38;5;124mEncountered httpx.TimeoutException\u001b[39m\u001b[38;5;124m\"\u001b[39m, exc_info\u001b[38;5;241m=\u001b[39m\u001b[38;5;28;01mTrue\u001b[39;00m)\n",
      "File \u001b[1;32mc:\\Users\\Soham\\anaconda3\\Lib\\site-packages\\httpx\\_client.py:915\u001b[0m, in \u001b[0;36mClient.send\u001b[1;34m(self, request, stream, auth, follow_redirects)\u001b[0m\n\u001b[0;32m    907\u001b[0m follow_redirects \u001b[38;5;241m=\u001b[39m (\n\u001b[0;32m    908\u001b[0m     \u001b[38;5;28mself\u001b[39m\u001b[38;5;241m.\u001b[39mfollow_redirects\n\u001b[0;32m    909\u001b[0m     \u001b[38;5;28;01mif\u001b[39;00m \u001b[38;5;28misinstance\u001b[39m(follow_redirects, UseClientDefault)\n\u001b[0;32m    910\u001b[0m     \u001b[38;5;28;01melse\u001b[39;00m follow_redirects\n\u001b[0;32m    911\u001b[0m )\n\u001b[0;32m    913\u001b[0m auth \u001b[38;5;241m=\u001b[39m \u001b[38;5;28mself\u001b[39m\u001b[38;5;241m.\u001b[39m_build_request_auth(request, auth)\n\u001b[1;32m--> 915\u001b[0m response \u001b[38;5;241m=\u001b[39m \u001b[38;5;28mself\u001b[39m\u001b[38;5;241m.\u001b[39m_send_handling_auth(\n\u001b[0;32m    916\u001b[0m     request,\n\u001b[0;32m    917\u001b[0m     auth\u001b[38;5;241m=\u001b[39mauth,\n\u001b[0;32m    918\u001b[0m     follow_redirects\u001b[38;5;241m=\u001b[39mfollow_redirects,\n\u001b[0;32m    919\u001b[0m     history\u001b[38;5;241m=\u001b[39m[],\n\u001b[0;32m    920\u001b[0m )\n\u001b[0;32m    921\u001b[0m \u001b[38;5;28;01mtry\u001b[39;00m:\n\u001b[0;32m    922\u001b[0m     \u001b[38;5;28;01mif\u001b[39;00m \u001b[38;5;129;01mnot\u001b[39;00m stream:\n",
      "File \u001b[1;32mc:\\Users\\Soham\\anaconda3\\Lib\\site-packages\\httpx\\_client.py:943\u001b[0m, in \u001b[0;36mClient._send_handling_auth\u001b[1;34m(self, request, auth, follow_redirects, history)\u001b[0m\n\u001b[0;32m    940\u001b[0m request \u001b[38;5;241m=\u001b[39m \u001b[38;5;28mnext\u001b[39m(auth_flow)\n\u001b[0;32m    942\u001b[0m \u001b[38;5;28;01mwhile\u001b[39;00m \u001b[38;5;28;01mTrue\u001b[39;00m:\n\u001b[1;32m--> 943\u001b[0m     response \u001b[38;5;241m=\u001b[39m \u001b[38;5;28mself\u001b[39m\u001b[38;5;241m.\u001b[39m_send_handling_redirects(\n\u001b[0;32m    944\u001b[0m         request,\n\u001b[0;32m    945\u001b[0m         follow_redirects\u001b[38;5;241m=\u001b[39mfollow_redirects,\n\u001b[0;32m    946\u001b[0m         history\u001b[38;5;241m=\u001b[39mhistory,\n\u001b[0;32m    947\u001b[0m     )\n\u001b[0;32m    948\u001b[0m     \u001b[38;5;28;01mtry\u001b[39;00m:\n\u001b[0;32m    949\u001b[0m         \u001b[38;5;28;01mtry\u001b[39;00m:\n",
      "File \u001b[1;32mc:\\Users\\Soham\\anaconda3\\Lib\\site-packages\\httpx\\_client.py:980\u001b[0m, in \u001b[0;36mClient._send_handling_redirects\u001b[1;34m(self, request, follow_redirects, history)\u001b[0m\n\u001b[0;32m    977\u001b[0m \u001b[38;5;28;01mfor\u001b[39;00m hook \u001b[38;5;129;01min\u001b[39;00m \u001b[38;5;28mself\u001b[39m\u001b[38;5;241m.\u001b[39m_event_hooks[\u001b[38;5;124m\"\u001b[39m\u001b[38;5;124mrequest\u001b[39m\u001b[38;5;124m\"\u001b[39m]:\n\u001b[0;32m    978\u001b[0m     hook(request)\n\u001b[1;32m--> 980\u001b[0m response \u001b[38;5;241m=\u001b[39m \u001b[38;5;28mself\u001b[39m\u001b[38;5;241m.\u001b[39m_send_single_request(request)\n\u001b[0;32m    981\u001b[0m \u001b[38;5;28;01mtry\u001b[39;00m:\n\u001b[0;32m    982\u001b[0m     \u001b[38;5;28;01mfor\u001b[39;00m hook \u001b[38;5;129;01min\u001b[39;00m \u001b[38;5;28mself\u001b[39m\u001b[38;5;241m.\u001b[39m_event_hooks[\u001b[38;5;124m\"\u001b[39m\u001b[38;5;124mresponse\u001b[39m\u001b[38;5;124m\"\u001b[39m]:\n",
      "File \u001b[1;32mc:\\Users\\Soham\\anaconda3\\Lib\\site-packages\\httpx\\_client.py:1016\u001b[0m, in \u001b[0;36mClient._send_single_request\u001b[1;34m(self, request)\u001b[0m\n\u001b[0;32m   1011\u001b[0m     \u001b[38;5;28;01mraise\u001b[39;00m \u001b[38;5;167;01mRuntimeError\u001b[39;00m(\n\u001b[0;32m   1012\u001b[0m         \u001b[38;5;124m\"\u001b[39m\u001b[38;5;124mAttempted to send an async request with a sync Client instance.\u001b[39m\u001b[38;5;124m\"\u001b[39m\n\u001b[0;32m   1013\u001b[0m     )\n\u001b[0;32m   1015\u001b[0m \u001b[38;5;28;01mwith\u001b[39;00m request_context(request\u001b[38;5;241m=\u001b[39mrequest):\n\u001b[1;32m-> 1016\u001b[0m     response \u001b[38;5;241m=\u001b[39m transport\u001b[38;5;241m.\u001b[39mhandle_request(request)\n\u001b[0;32m   1018\u001b[0m \u001b[38;5;28;01massert\u001b[39;00m \u001b[38;5;28misinstance\u001b[39m(response\u001b[38;5;241m.\u001b[39mstream, SyncByteStream)\n\u001b[0;32m   1020\u001b[0m response\u001b[38;5;241m.\u001b[39mrequest \u001b[38;5;241m=\u001b[39m request\n",
      "File \u001b[1;32mc:\\Users\\Soham\\anaconda3\\Lib\\site-packages\\httpx\\_transports\\default.py:231\u001b[0m, in \u001b[0;36mHTTPTransport.handle_request\u001b[1;34m(self, request)\u001b[0m\n\u001b[0;32m    218\u001b[0m req \u001b[38;5;241m=\u001b[39m httpcore\u001b[38;5;241m.\u001b[39mRequest(\n\u001b[0;32m    219\u001b[0m     method\u001b[38;5;241m=\u001b[39mrequest\u001b[38;5;241m.\u001b[39mmethod,\n\u001b[0;32m    220\u001b[0m     url\u001b[38;5;241m=\u001b[39mhttpcore\u001b[38;5;241m.\u001b[39mURL(\n\u001b[1;32m   (...)\u001b[0m\n\u001b[0;32m    228\u001b[0m     extensions\u001b[38;5;241m=\u001b[39mrequest\u001b[38;5;241m.\u001b[39mextensions,\n\u001b[0;32m    229\u001b[0m )\n\u001b[0;32m    230\u001b[0m \u001b[38;5;28;01mwith\u001b[39;00m map_httpcore_exceptions():\n\u001b[1;32m--> 231\u001b[0m     resp \u001b[38;5;241m=\u001b[39m \u001b[38;5;28mself\u001b[39m\u001b[38;5;241m.\u001b[39m_pool\u001b[38;5;241m.\u001b[39mhandle_request(req)\n\u001b[0;32m    233\u001b[0m \u001b[38;5;28;01massert\u001b[39;00m \u001b[38;5;28misinstance\u001b[39m(resp\u001b[38;5;241m.\u001b[39mstream, typing\u001b[38;5;241m.\u001b[39mIterable)\n\u001b[0;32m    235\u001b[0m \u001b[38;5;28;01mreturn\u001b[39;00m Response(\n\u001b[0;32m    236\u001b[0m     status_code\u001b[38;5;241m=\u001b[39mresp\u001b[38;5;241m.\u001b[39mstatus,\n\u001b[0;32m    237\u001b[0m     headers\u001b[38;5;241m=\u001b[39mresp\u001b[38;5;241m.\u001b[39mheaders,\n\u001b[0;32m    238\u001b[0m     stream\u001b[38;5;241m=\u001b[39mResponseStream(resp\u001b[38;5;241m.\u001b[39mstream),\n\u001b[0;32m    239\u001b[0m     extensions\u001b[38;5;241m=\u001b[39mresp\u001b[38;5;241m.\u001b[39mextensions,\n\u001b[0;32m    240\u001b[0m )\n",
      "File \u001b[1;32mc:\\Users\\Soham\\anaconda3\\Lib\\site-packages\\httpcore\\_sync\\connection_pool.py:268\u001b[0m, in \u001b[0;36mConnectionPool.handle_request\u001b[1;34m(self, request)\u001b[0m\n\u001b[0;32m    266\u001b[0m     \u001b[38;5;28;01mwith\u001b[39;00m ShieldCancellation():\n\u001b[0;32m    267\u001b[0m         \u001b[38;5;28mself\u001b[39m\u001b[38;5;241m.\u001b[39mresponse_closed(status)\n\u001b[1;32m--> 268\u001b[0m     \u001b[38;5;28;01mraise\u001b[39;00m exc\n\u001b[0;32m    269\u001b[0m \u001b[38;5;28;01melse\u001b[39;00m:\n\u001b[0;32m    270\u001b[0m     \u001b[38;5;28;01mbreak\u001b[39;00m\n",
      "File \u001b[1;32mc:\\Users\\Soham\\anaconda3\\Lib\\site-packages\\httpcore\\_sync\\connection_pool.py:251\u001b[0m, in \u001b[0;36mConnectionPool.handle_request\u001b[1;34m(self, request)\u001b[0m\n\u001b[0;32m    248\u001b[0m         \u001b[38;5;28;01mraise\u001b[39;00m exc\n\u001b[0;32m    250\u001b[0m \u001b[38;5;28;01mtry\u001b[39;00m:\n\u001b[1;32m--> 251\u001b[0m     response \u001b[38;5;241m=\u001b[39m connection\u001b[38;5;241m.\u001b[39mhandle_request(request)\n\u001b[0;32m    252\u001b[0m \u001b[38;5;28;01mexcept\u001b[39;00m ConnectionNotAvailable:\n\u001b[0;32m    253\u001b[0m     \u001b[38;5;66;03m# The ConnectionNotAvailable exception is a special case, that\u001b[39;00m\n\u001b[0;32m    254\u001b[0m     \u001b[38;5;66;03m# indicates we need to retry the request on a new connection.\u001b[39;00m\n\u001b[1;32m   (...)\u001b[0m\n\u001b[0;32m    258\u001b[0m     \u001b[38;5;66;03m# might end up as an HTTP/2 connection, but which actually ends\u001b[39;00m\n\u001b[0;32m    259\u001b[0m     \u001b[38;5;66;03m# up as HTTP/1.1.\u001b[39;00m\n\u001b[0;32m    260\u001b[0m     \u001b[38;5;28;01mwith\u001b[39;00m \u001b[38;5;28mself\u001b[39m\u001b[38;5;241m.\u001b[39m_pool_lock:\n\u001b[0;32m    261\u001b[0m         \u001b[38;5;66;03m# Maintain our position in the request queue, but reset the\u001b[39;00m\n\u001b[0;32m    262\u001b[0m         \u001b[38;5;66;03m# status so that the request becomes queued again.\u001b[39;00m\n",
      "File \u001b[1;32mc:\\Users\\Soham\\anaconda3\\Lib\\site-packages\\httpcore\\_sync\\connection.py:103\u001b[0m, in \u001b[0;36mHTTPConnection.handle_request\u001b[1;34m(self, request)\u001b[0m\n\u001b[0;32m    100\u001b[0m     \u001b[38;5;28;01melif\u001b[39;00m \u001b[38;5;129;01mnot\u001b[39;00m \u001b[38;5;28mself\u001b[39m\u001b[38;5;241m.\u001b[39m_connection\u001b[38;5;241m.\u001b[39mis_available():\n\u001b[0;32m    101\u001b[0m         \u001b[38;5;28;01mraise\u001b[39;00m ConnectionNotAvailable()\n\u001b[1;32m--> 103\u001b[0m \u001b[38;5;28;01mreturn\u001b[39;00m \u001b[38;5;28mself\u001b[39m\u001b[38;5;241m.\u001b[39m_connection\u001b[38;5;241m.\u001b[39mhandle_request(request)\n",
      "File \u001b[1;32mc:\\Users\\Soham\\anaconda3\\Lib\\site-packages\\httpcore\\_sync\\http11.py:133\u001b[0m, in \u001b[0;36mHTTP11Connection.handle_request\u001b[1;34m(self, request)\u001b[0m\n\u001b[0;32m    131\u001b[0m     \u001b[38;5;28;01mwith\u001b[39;00m Trace(\u001b[38;5;124m\"\u001b[39m\u001b[38;5;124mresponse_closed\u001b[39m\u001b[38;5;124m\"\u001b[39m, logger, request) \u001b[38;5;28;01mas\u001b[39;00m trace:\n\u001b[0;32m    132\u001b[0m         \u001b[38;5;28mself\u001b[39m\u001b[38;5;241m.\u001b[39m_response_closed()\n\u001b[1;32m--> 133\u001b[0m \u001b[38;5;28;01mraise\u001b[39;00m exc\n",
      "File \u001b[1;32mc:\\Users\\Soham\\anaconda3\\Lib\\site-packages\\httpcore\\_sync\\http11.py:111\u001b[0m, in \u001b[0;36mHTTP11Connection.handle_request\u001b[1;34m(self, request)\u001b[0m\n\u001b[0;32m    101\u001b[0m     \u001b[38;5;28;01mpass\u001b[39;00m\n\u001b[0;32m    103\u001b[0m \u001b[38;5;28;01mwith\u001b[39;00m Trace(\n\u001b[0;32m    104\u001b[0m     \u001b[38;5;124m\"\u001b[39m\u001b[38;5;124mreceive_response_headers\u001b[39m\u001b[38;5;124m\"\u001b[39m, logger, request, kwargs\n\u001b[0;32m    105\u001b[0m ) \u001b[38;5;28;01mas\u001b[39;00m trace:\n\u001b[0;32m    106\u001b[0m     (\n\u001b[0;32m    107\u001b[0m         http_version,\n\u001b[0;32m    108\u001b[0m         status,\n\u001b[0;32m    109\u001b[0m         reason_phrase,\n\u001b[0;32m    110\u001b[0m         headers,\n\u001b[1;32m--> 111\u001b[0m     ) \u001b[38;5;241m=\u001b[39m \u001b[38;5;28mself\u001b[39m\u001b[38;5;241m.\u001b[39m_receive_response_headers(\u001b[38;5;241m*\u001b[39m\u001b[38;5;241m*\u001b[39mkwargs)\n\u001b[0;32m    112\u001b[0m     trace\u001b[38;5;241m.\u001b[39mreturn_value \u001b[38;5;241m=\u001b[39m (\n\u001b[0;32m    113\u001b[0m         http_version,\n\u001b[0;32m    114\u001b[0m         status,\n\u001b[0;32m    115\u001b[0m         reason_phrase,\n\u001b[0;32m    116\u001b[0m         headers,\n\u001b[0;32m    117\u001b[0m     )\n\u001b[0;32m    119\u001b[0m \u001b[38;5;28;01mreturn\u001b[39;00m Response(\n\u001b[0;32m    120\u001b[0m     status\u001b[38;5;241m=\u001b[39mstatus,\n\u001b[0;32m    121\u001b[0m     headers\u001b[38;5;241m=\u001b[39mheaders,\n\u001b[1;32m   (...)\u001b[0m\n\u001b[0;32m    127\u001b[0m     },\n\u001b[0;32m    128\u001b[0m )\n",
      "File \u001b[1;32mc:\\Users\\Soham\\anaconda3\\Lib\\site-packages\\httpcore\\_sync\\http11.py:176\u001b[0m, in \u001b[0;36mHTTP11Connection._receive_response_headers\u001b[1;34m(self, request)\u001b[0m\n\u001b[0;32m    173\u001b[0m timeout \u001b[38;5;241m=\u001b[39m timeouts\u001b[38;5;241m.\u001b[39mget(\u001b[38;5;124m\"\u001b[39m\u001b[38;5;124mread\u001b[39m\u001b[38;5;124m\"\u001b[39m, \u001b[38;5;28;01mNone\u001b[39;00m)\n\u001b[0;32m    175\u001b[0m \u001b[38;5;28;01mwhile\u001b[39;00m \u001b[38;5;28;01mTrue\u001b[39;00m:\n\u001b[1;32m--> 176\u001b[0m     event \u001b[38;5;241m=\u001b[39m \u001b[38;5;28mself\u001b[39m\u001b[38;5;241m.\u001b[39m_receive_event(timeout\u001b[38;5;241m=\u001b[39mtimeout)\n\u001b[0;32m    177\u001b[0m     \u001b[38;5;28;01mif\u001b[39;00m \u001b[38;5;28misinstance\u001b[39m(event, h11\u001b[38;5;241m.\u001b[39mResponse):\n\u001b[0;32m    178\u001b[0m         \u001b[38;5;28;01mbreak\u001b[39;00m\n",
      "File \u001b[1;32mc:\\Users\\Soham\\anaconda3\\Lib\\site-packages\\httpcore\\_sync\\http11.py:212\u001b[0m, in \u001b[0;36mHTTP11Connection._receive_event\u001b[1;34m(self, timeout)\u001b[0m\n\u001b[0;32m    209\u001b[0m     event \u001b[38;5;241m=\u001b[39m \u001b[38;5;28mself\u001b[39m\u001b[38;5;241m.\u001b[39m_h11_state\u001b[38;5;241m.\u001b[39mnext_event()\n\u001b[0;32m    211\u001b[0m \u001b[38;5;28;01mif\u001b[39;00m event \u001b[38;5;129;01mis\u001b[39;00m h11\u001b[38;5;241m.\u001b[39mNEED_DATA:\n\u001b[1;32m--> 212\u001b[0m     data \u001b[38;5;241m=\u001b[39m \u001b[38;5;28mself\u001b[39m\u001b[38;5;241m.\u001b[39m_network_stream\u001b[38;5;241m.\u001b[39mread(\n\u001b[0;32m    213\u001b[0m         \u001b[38;5;28mself\u001b[39m\u001b[38;5;241m.\u001b[39mREAD_NUM_BYTES, timeout\u001b[38;5;241m=\u001b[39mtimeout\n\u001b[0;32m    214\u001b[0m     )\n\u001b[0;32m    216\u001b[0m     \u001b[38;5;66;03m# If we feed this case through h11 we'll raise an exception like:\u001b[39;00m\n\u001b[0;32m    217\u001b[0m     \u001b[38;5;66;03m#\u001b[39;00m\n\u001b[0;32m    218\u001b[0m     \u001b[38;5;66;03m#     httpcore.RemoteProtocolError: can't handle event type\u001b[39;00m\n\u001b[1;32m   (...)\u001b[0m\n\u001b[0;32m    222\u001b[0m     \u001b[38;5;66;03m# perspective. Instead we handle this case distinctly and treat\u001b[39;00m\n\u001b[0;32m    223\u001b[0m     \u001b[38;5;66;03m# it as a ConnectError.\u001b[39;00m\n\u001b[0;32m    224\u001b[0m     \u001b[38;5;28;01mif\u001b[39;00m data \u001b[38;5;241m==\u001b[39m \u001b[38;5;124mb\u001b[39m\u001b[38;5;124m\"\u001b[39m\u001b[38;5;124m\"\u001b[39m \u001b[38;5;129;01mand\u001b[39;00m \u001b[38;5;28mself\u001b[39m\u001b[38;5;241m.\u001b[39m_h11_state\u001b[38;5;241m.\u001b[39mtheir_state \u001b[38;5;241m==\u001b[39m h11\u001b[38;5;241m.\u001b[39mSEND_RESPONSE:\n",
      "File \u001b[1;32mc:\\Users\\Soham\\anaconda3\\Lib\\site-packages\\httpcore\\_backends\\sync.py:126\u001b[0m, in \u001b[0;36mSyncStream.read\u001b[1;34m(self, max_bytes, timeout)\u001b[0m\n\u001b[0;32m    124\u001b[0m \u001b[38;5;28;01mwith\u001b[39;00m map_exceptions(exc_map):\n\u001b[0;32m    125\u001b[0m     \u001b[38;5;28mself\u001b[39m\u001b[38;5;241m.\u001b[39m_sock\u001b[38;5;241m.\u001b[39msettimeout(timeout)\n\u001b[1;32m--> 126\u001b[0m     \u001b[38;5;28;01mreturn\u001b[39;00m \u001b[38;5;28mself\u001b[39m\u001b[38;5;241m.\u001b[39m_sock\u001b[38;5;241m.\u001b[39mrecv(max_bytes)\n",
      "File \u001b[1;32mc:\\Users\\Soham\\anaconda3\\Lib\\ssl.py:1233\u001b[0m, in \u001b[0;36mSSLSocket.recv\u001b[1;34m(self, buflen, flags)\u001b[0m\n\u001b[0;32m   1229\u001b[0m     \u001b[38;5;28;01mif\u001b[39;00m flags \u001b[38;5;241m!=\u001b[39m \u001b[38;5;241m0\u001b[39m:\n\u001b[0;32m   1230\u001b[0m         \u001b[38;5;28;01mraise\u001b[39;00m \u001b[38;5;167;01mValueError\u001b[39;00m(\n\u001b[0;32m   1231\u001b[0m             \u001b[38;5;124m\"\u001b[39m\u001b[38;5;124mnon-zero flags not allowed in calls to recv() on \u001b[39m\u001b[38;5;132;01m%s\u001b[39;00m\u001b[38;5;124m\"\u001b[39m \u001b[38;5;241m%\u001b[39m\n\u001b[0;32m   1232\u001b[0m             \u001b[38;5;28mself\u001b[39m\u001b[38;5;241m.\u001b[39m\u001b[38;5;18m__class__\u001b[39m)\n\u001b[1;32m-> 1233\u001b[0m     \u001b[38;5;28;01mreturn\u001b[39;00m \u001b[38;5;28mself\u001b[39m\u001b[38;5;241m.\u001b[39mread(buflen)\n\u001b[0;32m   1234\u001b[0m \u001b[38;5;28;01melse\u001b[39;00m:\n\u001b[0;32m   1235\u001b[0m     \u001b[38;5;28;01mreturn\u001b[39;00m \u001b[38;5;28msuper\u001b[39m()\u001b[38;5;241m.\u001b[39mrecv(buflen, flags)\n",
      "File \u001b[1;32mc:\\Users\\Soham\\anaconda3\\Lib\\ssl.py:1106\u001b[0m, in \u001b[0;36mSSLSocket.read\u001b[1;34m(self, len, buffer)\u001b[0m\n\u001b[0;32m   1104\u001b[0m         \u001b[38;5;28;01mreturn\u001b[39;00m \u001b[38;5;28mself\u001b[39m\u001b[38;5;241m.\u001b[39m_sslobj\u001b[38;5;241m.\u001b[39mread(\u001b[38;5;28mlen\u001b[39m, buffer)\n\u001b[0;32m   1105\u001b[0m     \u001b[38;5;28;01melse\u001b[39;00m:\n\u001b[1;32m-> 1106\u001b[0m         \u001b[38;5;28;01mreturn\u001b[39;00m \u001b[38;5;28mself\u001b[39m\u001b[38;5;241m.\u001b[39m_sslobj\u001b[38;5;241m.\u001b[39mread(\u001b[38;5;28mlen\u001b[39m)\n\u001b[0;32m   1107\u001b[0m \u001b[38;5;28;01mexcept\u001b[39;00m SSLError \u001b[38;5;28;01mas\u001b[39;00m x:\n\u001b[0;32m   1108\u001b[0m     \u001b[38;5;28;01mif\u001b[39;00m x\u001b[38;5;241m.\u001b[39margs[\u001b[38;5;241m0\u001b[39m] \u001b[38;5;241m==\u001b[39m SSL_ERROR_EOF \u001b[38;5;129;01mand\u001b[39;00m \u001b[38;5;28mself\u001b[39m\u001b[38;5;241m.\u001b[39msuppress_ragged_eofs:\n",
      "\u001b[1;31mKeyboardInterrupt\u001b[0m: "
     ]
    }
   ],
   "source": [
    "import time\n",
    "from langchain_groq import ChatGroq\n",
    "from sklearn.metrics import accuracy_score, confusion_matrix\n",
    "import pandas as pd\n",
    "import matplotlib.pyplot as plt\n",
    "import seaborn as sns\n",
    "\n",
    "\n",
    "# Function to make API calls with retry logic for rate limit errors\n",
    "def make_api_call(prompt):\n",
    "    while True:\n",
    "        try:\n",
    "            response = llm.invoke(prompt)\n",
    "            return response\n",
    "        except Exception as e:\n",
    "            print(f\"Rate limit error: {e}. Retrying in 10 seconds...\")\n",
    "            time.sleep(10)\n",
    "\n",
    "# Set up Groq API credentials and model\n",
    "Groq_Token = \"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\"\n",
    "model_name = \"llama3.1-70b\"\n",
    "llm = ChatGroq(model=groq_models[model_name], api_key=Groq_Token, temperature=0)\n",
    "\n",
    "# Select even samples for few-shot learning examples\n",
    "samples_per_activity = 3\n",
    "few_shot_indices = []\n",
    "activity_count = {i: 0 for i in range(1, 7)}\n",
    "\n",
    "for i, label in enumerate(y_train):\n",
    "    if activity_count[label] < samples_per_activity:\n",
    "        few_shot_indices.append(i)\n",
    "        activity_count[label] += 1\n",
    "    if all(count == samples_per_activity for count in activity_count.values()):\n",
    "        break\n",
    "\n",
    "# Create few-shot examples\n",
    "few_shot_examples = [\n",
    "    {\"input\": X_train_pca_20[i].tolist(), \"label\": y_train[i]} for i in few_shot_indices\n",
    "]\n",
    "\n",
    "# Function to create a few-shot learning prompt\n",
    "def create_few_shot_prompt(examples, query_input):\n",
    "    description = '''\n",
    "        You are a highly trained human activity classification model.\n",
    "        Each input is a vector containing numerical values that represent transformed features.\n",
    "        The data consists of 20 principal components extracted from the Human Activity Recognition dataset.\n",
    "        Your task is to classify the input vector into one of the following categories:\n",
    "        - 1: WALKING\n",
    "        - 2: WALKING_UPSTAIRS\n",
    "        - 3: WALKING_DOWNSTAIRS\n",
    "        - 4: SITTING \n",
    "        - 5: STANDING\n",
    "        - 6: LAYING\n",
    "\n",
    "        Here are a few examples:\\n\n",
    "    '''\n",
    "    prompt = description\n",
    "    for ex in examples:\n",
    "        example_input = \",\".join(map(str, ex['input']))\n",
    "        prompt += f\"Input: [{example_input}]\\nLabel: {ex['label']}\\n\\n\" \n",
    "        \n",
    "    query_input_str = \",\".join(map(str, query_input))\n",
    "    prompt += f\"Now, classify the following input vector and return ONLY the number.\\nInput: [{query_input_str}]\\nLabel: \"\n",
    "    # print(len(description))\n",
    "    # print(len(prompt))\n",
    "    return prompt\n",
    "\n",
    "# Select 3 samples from each activity for testing\n",
    "samples_per_activity = 4\n",
    "selected_indices = []\n",
    "activity_count = {i: 0 for i in range(1, 7)}\n",
    "\n",
    "for i, label in enumerate(y_test):\n",
    "    if activity_count[label] < samples_per_activity:\n",
    "        selected_indices.append(i)\n",
    "        activity_count[label] += 1\n",
    "    if all(count == samples_per_activity for count in activity_count.values()):\n",
    "        break\n",
    "\n",
    "# Store predictions and true labels\n",
    "predictions = []\n",
    "true_labels = []\n",
    "\n",
    "# Test the selected cases\n",
    "for idx in selected_indices:\n",
    "    query_input = X_test_pca_20[idx].tolist()\n",
    "    true_label = y_test[idx]\n",
    "    prompt = create_few_shot_prompt(few_shot_examples, query_input)\n",
    "    \n",
    "    # Make the API call and store the prediction\n",
    "    answer = make_api_call(prompt)\n",
    "    predicted_label = int(answer.content.strip())\n",
    "    predictions.append(predicted_label)\n",
    "    true_labels.append(true_label)\n",
    "    \n",
    "    # Print the predicted and true labels\n",
    "    print(f\"Test Case {idx + 1} ({activity_labels[true_label]}):\")\n",
    "    print(f\"Predicted label: {predicted_label}\")\n",
    "    print(f\"True label: {true_label}\")\n",
    "    print(\"-\" * 50)\n",
    "\n",
    "# Calculate and print accuracy\n",
    "accuracy = accuracy_score(true_labels, predictions)\n",
    "print(f\"Accuracy: {accuracy:.2f}\")\n",
    "\n",
    "# Calculate and plot the confusion matrix\n",
    "conf_matrix = confusion_matrix(true_labels, predictions, labels=[1, 2, 3, 4, 5, 6])\n",
    "\n",
    "plt.figure(figsize=(8, 6))\n",
    "sns.heatmap(conf_matrix, annot=True, fmt='d', cmap='Blues', \n",
    "            xticklabels=['WALKING', 'WALKING_UPSTAIRS', 'WALKING_DOWNSTAIRS', 'SITTING', 'STANDING', 'LAYING'], \n",
    "            yticklabels=['WALKING', 'WALKING_UPSTAIRS', 'WALKING_DOWNSTAIRS', 'SITTING', 'STANDING', 'LAYING'])\n",
    "plt.xlabel('Predicted Label')\n",
    "plt.ylabel('True Label')\n",
    "plt.title('Confusion Matrix')\n",
    "plt.show()"
   ]
  },
  {
   "cell_type": "code",
   "execution_count": null,
   "metadata": {},
   "outputs": [],
   "source": []
  }
 ],
 "metadata": {
  "kernelspec": {
   "display_name": "base",
   "language": "python",
   "name": "python3"
  },
  "language_info": {
   "codemirror_mode": {
    "name": "ipython",
    "version": 3
   },
   "file_extension": ".py",
   "mimetype": "text/x-python",
   "name": "python",
   "nbconvert_exporter": "python",
   "pygments_lexer": "ipython3",
   "version": "3.12.4"
  }
 },
 "nbformat": 4,
 "nbformat_minor": 2
}
