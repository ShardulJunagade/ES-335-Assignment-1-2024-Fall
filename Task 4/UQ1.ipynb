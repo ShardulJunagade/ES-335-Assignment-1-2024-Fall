{
 "cells": [
  {
   "cell_type": "code",
   "execution_count": 2,
   "metadata": {},
   "outputs": [
    {
     "name": "stdout",
     "output_type": "stream",
     "text": [
      "(9000, 3)\n",
      "(3000, 3)\n",
      "(9000,)\n",
      "(3000,)\n"
     ]
    }
   ],
   "source": [
    "import pandas as pd\n",
    "import numpy as np\n",
    "\n",
    "X_train1 = np.load('../Task_4_data/X_train.npy')\n",
    "X_test1 = np.load('../Task_4_data/X_test.npy')\n",
    "y_train1 = np.load('../Task_4_data/y_train.npy')\n",
    "y_test1 = np.load('../Task_4_data/y_test.npy')\n",
    "\n",
    "print(X_train1.shape)\n",
    "print(X_test1.shape)\n",
    "print(y_train1.shape)\n",
    "print(y_test1.shape)"
   ]
  },
  {
   "cell_type": "code",
   "execution_count": 6,
   "metadata": {},
   "outputs": [
    {
     "name": "stdout",
     "output_type": "stream",
     "text": [
      "(18, 1500)\n",
      "(18,)\n",
      "[[-0.2018 -0.3225 -0.2937 ... -0.0911 -0.0989 -0.1062]\n",
      " [ 0.0963  0.0933 -0.0127 ... -0.1712 -0.1839 -0.1898]\n",
      " [-0.1344 -0.1339 -0.0503 ... -0.2802  0.1356  0.1415]\n",
      " ...\n",
      " [ 0.1779  0.1955  0.1774 ...  0.1386  0.1517  0.1601]\n",
      " [-0.0215 -0.0176 -0.04   ... -0.1195 -0.1229 -0.1356]\n",
      " [-0.0396 -0.0366 -0.0366 ...  1.0014  1.0019  1.0024]]\n",
      "[1 2 3 4 5 6 1 2 3 4 5 6 1 2 3 4 5 6]\n"
     ]
    }
   ],
   "source": [
    "X_train=np.empty((0,1500))\n",
    "y_train=y_train1[0:9000:500]\n",
    "for i in range(0,9000,500):\n",
    "    X_train=np.vstack((X_train,np.hstack([X_train1[i:i+500,0],X_train1[i:i+500,1],X_train1[i:i+500,2]])))\n",
    "print(X_train.shape)\n",
    "print(y_train.shape)\n",
    "\n",
    "print(X_train)\n",
    "print(y_train)"
   ]
  },
  {
   "cell_type": "code",
   "execution_count": 5,
   "metadata": {},
   "outputs": [
    {
     "name": "stdout",
     "output_type": "stream",
     "text": [
      "(6, 1500)\n",
      "(6,)\n"
     ]
    }
   ],
   "source": [
    "X_test=np.empty((0,1500))\n",
    "y_test=y_test1[0:3000:500]\n",
    "for i in range(0,3000,500):\n",
    "    X_test=np.vstack((X_test,np.hstack([X_test1[i:i+500,0],X_test1[i:i+500,1],X_test1[i:i+500,2]])))\n",
    "print(X_test.shape)\n",
    "print(y_test.shape)"
   ]
  },
  {
   "cell_type": "code",
   "execution_count": 9,
   "metadata": {},
   "outputs": [],
   "source": [
    "filename = 'finalized_dt_model.sav'\n",
    "import pickle\n",
    "# load the model from disk\n",
    "dt2 = pickle.load(open(filename, 'rb'))\n"
   ]
  },
  {
   "cell_type": "code",
   "execution_count": 10,
   "metadata": {},
   "outputs": [
    {
     "name": "stdout",
     "output_type": "stream",
     "text": [
      "*** Feature extraction started ***\n"
     ]
    },
    {
     "data": {
      "text/html": [
       "\n",
       "              <p>\n",
       "                  Progress: 100% Complete\n",
       "              <p/>\n",
       "              <progress\n",
       "                  value='67'\n",
       "                  max='67',\n",
       "                  style='width: 25%',\n",
       "              >\n",
       "                  67\n",
       "              </progress>\n",
       "\n",
       "    "
      ],
      "text/plain": [
       "<IPython.core.display.HTML object>"
      ]
     },
     "metadata": {},
     "output_type": "display_data"
    },
    {
     "name": "stdout",
     "output_type": "stream",
     "text": [
      "\n",
      "*** Feature extraction finished ***\n",
      "*** Feature extraction started ***\n"
     ]
    },
    {
     "data": {
      "text/html": [
       "\n",
       "              <p>\n",
       "                  Progress: 5% Complete\n",
       "              <p/>\n",
       "              <progress\n",
       "                  value='4'\n",
       "                  max='67',\n",
       "                  style='width: 25%',\n",
       "              >\n",
       "                  4\n",
       "              </progress>\n",
       "\n",
       "    "
      ],
      "text/plain": [
       "<IPython.core.display.HTML object>"
      ]
     },
     "metadata": {},
     "output_type": "display_data"
    },
    {
     "ename": "ValueError",
     "evalue": "Input signal must have a length >= n_coeff",
     "output_type": "error",
     "traceback": [
      "\u001b[1;31m---------------------------------------------------------------------------\u001b[0m",
      "\u001b[1;31mValueError\u001b[0m                                Traceback (most recent call last)",
      "Cell \u001b[1;32mIn[10], line 7\u001b[0m\n\u001b[0;32m      5\u001b[0m cfg \u001b[38;5;241m=\u001b[39m tsfel\u001b[38;5;241m.\u001b[39mget_features_by_domain()  \u001b[38;5;66;03m# Get all features by default\u001b[39;00m\n\u001b[0;32m      6\u001b[0m X_train_real_tsfel \u001b[38;5;241m=\u001b[39m tsfel\u001b[38;5;241m.\u001b[39mtime_series_features_extractor(cfg,X_train, verbose\u001b[38;5;241m=\u001b[39m\u001b[38;5;241m1\u001b[39m,fs \u001b[38;5;241m=\u001b[39m\u001b[38;5;241m50\u001b[39m)\n\u001b[1;32m----> 7\u001b[0m X_test_real_tsfel \u001b[38;5;241m=\u001b[39m tsfel\u001b[38;5;241m.\u001b[39mtime_series_features_extractor(cfg,X_test, verbose\u001b[38;5;241m=\u001b[39m\u001b[38;5;241m1\u001b[39m,fs \u001b[38;5;241m=\u001b[39m\u001b[38;5;241m50\u001b[39m)\n\u001b[0;32m      9\u001b[0m y_test_real_tsfel \u001b[38;5;241m=\u001b[39m y_test\n\u001b[0;32m     10\u001b[0m y_train_real_tsfel \u001b[38;5;241m=\u001b[39m y_train\n",
      "File \u001b[1;32mc:\\Users\\Soham\\anaconda3\\Lib\\site-packages\\tsfel\\feature_extraction\\calc_features.py:378\u001b[0m, in \u001b[0;36mtime_series_features_extractor\u001b[1;34m(dict_features, signal_windows, fs, verbose, **kwargs)\u001b[0m\n\u001b[0;32m    373\u001b[0m         \u001b[38;5;28;01mraise\u001b[39;00m \u001b[38;5;167;01mSystemExit\u001b[39;00m(\n\u001b[0;32m    374\u001b[0m             \u001b[38;5;124m\"\u001b[39m\u001b[38;5;124mn_jobs value is not valid. \u001b[39m\u001b[38;5;124m\"\u001b[39m \u001b[38;5;124m\"\u001b[39m\u001b[38;5;124mChoose an integer value or None for no multiprocessing.\u001b[39m\u001b[38;5;124m\"\u001b[39m,\n\u001b[0;32m    375\u001b[0m         )\n\u001b[0;32m    376\u001b[0m \u001b[38;5;66;03m# single window\u001b[39;00m\n\u001b[0;32m    377\u001b[0m \u001b[38;5;28;01melse\u001b[39;00m:\n\u001b[1;32m--> 378\u001b[0m     features_final \u001b[38;5;241m=\u001b[39m calc_window_features(\n\u001b[0;32m    379\u001b[0m         dict_features,\n\u001b[0;32m    380\u001b[0m         signal_windows,\n\u001b[0;32m    381\u001b[0m         fs,\n\u001b[0;32m    382\u001b[0m         verbose\u001b[38;5;241m=\u001b[39mverbose,\n\u001b[0;32m    383\u001b[0m         features_path\u001b[38;5;241m=\u001b[39mfeatures_path,\n\u001b[0;32m    384\u001b[0m         header_names\u001b[38;5;241m=\u001b[39mnames,\n\u001b[0;32m    385\u001b[0m         single_window\u001b[38;5;241m=\u001b[39m\u001b[38;5;28;01mTrue\u001b[39;00m,\n\u001b[0;32m    386\u001b[0m     )\n\u001b[0;32m    388\u001b[0m \u001b[38;5;28;01mif\u001b[39;00m verbose \u001b[38;5;241m==\u001b[39m \u001b[38;5;241m1\u001b[39m:\n\u001b[0;32m    389\u001b[0m     \u001b[38;5;28mprint\u001b[39m(\u001b[38;5;124m\"\u001b[39m\u001b[38;5;130;01m\\n\u001b[39;00m\u001b[38;5;124m\"\u001b[39m \u001b[38;5;241m+\u001b[39m \u001b[38;5;124m\"\u001b[39m\u001b[38;5;124m*** Feature extraction finished ***\u001b[39m\u001b[38;5;124m\"\u001b[39m)\n",
      "File \u001b[1;32mc:\\Users\\Soham\\anaconda3\\Lib\\site-packages\\tsfel\\feature_extraction\\calc_features.py:521\u001b[0m, in \u001b[0;36mcalc_window_features\u001b[1;34m(dict_features, signal_window, fs, verbose, single_window, **kwargs)\u001b[0m\n\u001b[0;32m    519\u001b[0m \u001b[38;5;28;01mfor\u001b[39;00m ax \u001b[38;5;129;01min\u001b[39;00m \u001b[38;5;28mrange\u001b[39m(\u001b[38;5;28mlen\u001b[39m(header_names)):\n\u001b[0;32m    520\u001b[0m     sig_ax \u001b[38;5;241m=\u001b[39m signal_window \u001b[38;5;28;01mif\u001b[39;00m single_axis \u001b[38;5;28;01melse\u001b[39;00m signal_window[:, ax]\n\u001b[1;32m--> 521\u001b[0m     eval_result_ax \u001b[38;5;241m=\u001b[39m \u001b[38;5;28mlocals\u001b[39m()[func_total](sig_ax, \u001b[38;5;241m*\u001b[39m\u001b[38;5;241m*\u001b[39mparameters_total)\n\u001b[0;32m    522\u001b[0m     \u001b[38;5;66;03m# Function returns more than one element\u001b[39;00m\n\u001b[0;32m    523\u001b[0m     \u001b[38;5;28;01mif\u001b[39;00m \u001b[38;5;28misinstance\u001b[39m(eval_result_ax, \u001b[38;5;28mtuple\u001b[39m):\n",
      "File \u001b[1;32mc:\\Users\\Soham\\anaconda3\\Lib\\site-packages\\tsfel\\feature_extraction\\features.py:1560\u001b[0m, in \u001b[0;36mlpcc\u001b[1;34m(signal, n_coeff)\u001b[0m\n\u001b[0;32m   1540\u001b[0m \u001b[38;5;250m\u001b[39m\u001b[38;5;124;03m\"\"\"Computes the linear prediction cepstral coefficients.\u001b[39;00m\n\u001b[0;32m   1541\u001b[0m \n\u001b[0;32m   1542\u001b[0m \u001b[38;5;124;03mImplementation details and description in:\u001b[39;00m\n\u001b[1;32m   (...)\u001b[0m\n\u001b[0;32m   1557\u001b[0m \u001b[38;5;124;03m    Linear prediction cepstral coefficients\u001b[39;00m\n\u001b[0;32m   1558\u001b[0m \u001b[38;5;124;03m\"\"\"\u001b[39;00m\n\u001b[0;32m   1559\u001b[0m \u001b[38;5;66;03m# 12-20 cepstral coefficients are sufficient for speech recognition\u001b[39;00m\n\u001b[1;32m-> 1560\u001b[0m lpc_coeffs \u001b[38;5;241m=\u001b[39m lpc(signal, n_coeff)\n\u001b[0;32m   1562\u001b[0m \u001b[38;5;28;01mif\u001b[39;00m np\u001b[38;5;241m.\u001b[39msum(lpc_coeffs) \u001b[38;5;241m==\u001b[39m \u001b[38;5;241m0\u001b[39m:\n\u001b[0;32m   1563\u001b[0m     \u001b[38;5;28;01mreturn\u001b[39;00m \u001b[38;5;28mtuple\u001b[39m(np\u001b[38;5;241m.\u001b[39mzeros(\u001b[38;5;28mlen\u001b[39m(lpc_coeffs)))\n",
      "File \u001b[1;32mc:\\Users\\Soham\\anaconda3\\Lib\\site-packages\\tsfel\\feature_extraction\\features_utils.py:221\u001b[0m, in \u001b[0;36mlpc\u001b[1;34m(signal, n_coeff)\u001b[0m\n\u001b[0;32m    219\u001b[0m     \u001b[38;5;28;01mraise\u001b[39;00m \u001b[38;5;167;01mValueError\u001b[39;00m(\u001b[38;5;124m\"\u001b[39m\u001b[38;5;124mOnly 1 dimensional arrays are valid\u001b[39m\u001b[38;5;124m\"\u001b[39m)\n\u001b[0;32m    220\u001b[0m \u001b[38;5;28;01mif\u001b[39;00m n_coeff \u001b[38;5;241m>\u001b[39m signal\u001b[38;5;241m.\u001b[39msize:\n\u001b[1;32m--> 221\u001b[0m     \u001b[38;5;28;01mraise\u001b[39;00m \u001b[38;5;167;01mValueError\u001b[39;00m(\u001b[38;5;124m\"\u001b[39m\u001b[38;5;124mInput signal must have a length >= n_coeff\u001b[39m\u001b[38;5;124m\"\u001b[39m)\n\u001b[0;32m    223\u001b[0m \u001b[38;5;66;03m# Calculate the order based on the number of coefficients\u001b[39;00m\n\u001b[0;32m    224\u001b[0m order \u001b[38;5;241m=\u001b[39m n_coeff \u001b[38;5;241m-\u001b[39m \u001b[38;5;241m1\u001b[39m\n",
      "\u001b[1;31mValueError\u001b[0m: Input signal must have a length >= n_coeff"
     ]
    }
   ],
   "source": [
    "\n",
    "# Extract features using TSFEL\n",
    "import tsfel\n",
    "import sklearn\n",
    "\n",
    "cfg = tsfel.get_features_by_domain()  # Get all features by default\n",
    "X_train_real_tsfel = tsfel.time_series_features_extractor(cfg,X_train, verbose=1,fs =50)\n",
    "X_test_real_tsfel = tsfel.time_series_features_extractor(cfg,X_test, verbose=1,fs =50)\n",
    "\n",
    "y_test_real_tsfel = y_test\n",
    "y_train_real_tsfel = y_train\n",
    "\n",
    "print(f\"X_train_tsfel: {X_train_real_tsfel.shape}\")\n",
    "print(f\"X_test_tsfel: {X_test_real_tsfel.shape}\")\n",
    "print(f\"y_train: {y_train.shape}\")\n",
    "print(f\"y_test: {y_test.shape}\")\n",
    "\n",
    "\n",
    "y_tsfel_pred=dt2.predict(X_test_real_tsfel)\n",
    "\n",
    "print(\"Accuracy: \",sklearn.metrics.accuracy_score(y_test_real_tsfel, y_tsfel_pred))\n",
    "print(\"Precision: \",sklearn.metrics.precision_score(y_test_real_tsfel, y_tsfel_pred,average='macro'))\n",
    "print(\"Recall: \",sklearn.metrics.recall_score(y_test_real_tsfel, y_tsfel_pred,average='macro'))\n",
    "\n",
    "comparison_df = pd.DataFrame({\n",
    "    'True Label': y_test,\n",
    "    'Predicted Label': y_tsfel_pred\n",
    "})\n",
    "\n",
    "# Display the DataFrame\n",
    "display(comparison_df)"
   ]
  },
  {
   "cell_type": "code",
   "execution_count": null,
   "metadata": {},
   "outputs": [],
   "source": []
  }
 ],
 "metadata": {
  "kernelspec": {
   "display_name": "base",
   "language": "python",
   "name": "python3"
  },
  "language_info": {
   "codemirror_mode": {
    "name": "ipython",
    "version": 3
   },
   "file_extension": ".py",
   "mimetype": "text/x-python",
   "name": "python",
   "nbconvert_exporter": "python",
   "pygments_lexer": "ipython3",
   "version": "3.12.4"
  }
 },
 "nbformat": 4,
 "nbformat_minor": 2
}
