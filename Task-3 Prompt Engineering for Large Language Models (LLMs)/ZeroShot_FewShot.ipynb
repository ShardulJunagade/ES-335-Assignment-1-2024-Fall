{
 "cells": [
  {
   "cell_type": "markdown",
   "metadata": {},
   "source": [
    "# Notebook to demonstrate Zero shot and Few shot Learning"
   ]
  },
  {
   "cell_type": "code",
   "execution_count": 12,
   "metadata": {},
   "outputs": [
    {
     "data": {
      "text/plain": [
       "True"
      ]
     },
     "execution_count": 12,
     "metadata": {},
     "output_type": "execute_result"
    }
   ],
   "source": [
    "import numpy as np\n",
    "import pandas as pd \n",
    "from langchain_groq.chat_models import ChatGroq\n",
    "import random\n",
    "import time\n",
    "\n",
    "from dotenv import load_dotenv\n",
    "import os\n",
    "load_dotenv()"
   ]
  },
  {
   "cell_type": "code",
   "execution_count": 20,
   "metadata": {},
   "outputs": [],
   "source": [
    "# Groq API and Models \n",
    "Groq_Token = os.getenv('GROQ_API_KEY') # Do not share this key with anyone\n",
    "\n",
    "groq_models = {\"llama3-70b\": \"llama3-70b-8192\", \"mixtral\": \"mixtral-8x7b-32768\", \"gemma-7b\": \"gemma-7b-it\",\"llama3.1-70b\":\"llama-3.1-70b-versatile\",\"llama3-8b\":\"llama3-8b-8192\",\"llama3.1-8b\":\"llama-3.1-8b-instant\",\"gemma-9b\":\"gemma2-9b-it\"}"
   ]
  },
  {
   "cell_type": "markdown",
   "metadata": {},
   "source": [
    "**NOTE : DO NOT SHARE THE API KEY WITH ANYONE. DO NOT COMMIT THE API KEY TO GITHUB.**\n",
    "\n",
    "Always do a sanity check before committing the code to github. If the key is found in the code, you will be penalized with a 0.5 marks deduction."
   ]
  },
  {
   "cell_type": "markdown",
   "metadata": {},
   "source": [
    "### Loading the training and testing sets"
   ]
  },
  {
   "cell_type": "code",
   "execution_count": 14,
   "metadata": {},
   "outputs": [
    {
     "name": "stdout",
     "output_type": "stream",
     "text": [
      "Training data shape:  (126, 500, 3)\n",
      "Training labels shape:  (126,)\n",
      "Testing data shape:  (54, 500, 3)\n",
      "Testing labels shape:  (54,)\n",
      "Activity Dictionary:  {'WALKING': 1, 'WALKING_UPSTAIRS': 2, 'WALKING_DOWNSTAIRS': 3, 'SITTING': 4, 'STANDING': 5, 'LAYING': 6}\n"
     ]
    }
   ],
   "source": [
    "X_train = np.load('../SavedDataset/Train/X_train.npy')\n",
    "X_test = np.load('../SavedDataset/Test/X_test.npy')\n",
    "y_train = np.load('../SavedDataset/Train/y_train.npy')\n",
    "y_test = np.load('../SavedDataset/Test/y_test.npy')\n",
    "\n",
    "\n",
    "print(\"Training data shape: \",X_train.shape)\n",
    "print(\"Training labels shape: \",y_train.shape)\n",
    "print(\"Testing data shape: \",X_test.shape)\n",
    "print(\"Testing labels shape: \",y_test.shape)\n",
    "\n",
    "activity_dict = {\n",
    "    1: \"WALKING\",\n",
    "    2: \"WALKING_UPSTAIRS\",\n",
    "    3: \"WALKING_DOWNSTAIRS\",\n",
    "    4: \"SITTING\",\n",
    "    5: \"STANDING\",\n",
    "    6: \"LAYING\"\n",
    "}\n",
    "\n",
    "activity_reverse_dict = {v: k for k, v in activity_dict.items()}\n",
    "\n",
    "print(\"Activity Dictionary: \",activity_reverse_dict)"
   ]
  },
  {
   "cell_type": "code",
   "execution_count": 15,
   "metadata": {},
   "outputs": [
    {
     "name": "stdout",
     "output_type": "stream",
     "text": [
      "[[1.19648, -0.1606898, -0.740178], [1.22203, -0.2672951, -0.7717485], [1.22311, -0.4338634, -0.7678422], [1.119198, -0.5337904, -0.7563089], [0.9158428, -0.4961259, -0.6291351], [0.8232005, -0.475312, -0.5338143], [0.8665536, -0.4580166, -0.5249095], [0.8930115, -0.3355446, -0.4887192], [0.964351, -0.2377609, -0.4879413], [1.060564, -0.1909076, -0.4934439], [1.057602, -0.1695583, -0.4591031], [0.9580277, -0.2363204, -0.4317126], [0.7992838, -0.3106481, -0.3664186], [0.6793694, -0.3515589, -0.2993257], [0.6064836, -0.364931, -0.269164], [0.5399829, -0.3310031, -0.243923], [0.5384855, -0.2876898, -0.2467077], [0.5715013, -0.2263525, -0.2647463], [0.596913, -0.1748644, -0.2764318], [0.635042, -0.1730205, -0.2743757], [0.6510546, -0.1950147, -0.2579281], [0.6566896, -0.2516222, -0.2319569], [0.6993972, -0.3159723, -0.1882381], [0.7610235, -0.3351564, -0.1817709], [0.8556888, -0.3292053, -0.2100259], [0.9661283, -0.3242493, -0.2098315], [1.023589, -0.3082657, -0.2134342], [1.081837, -0.3011849, -0.2402873], [1.142919, -0.3223701, -0.2940911], [1.145727, -0.362322, -0.408095], [1.18482, -0.4647019, -0.5330545], [1.309912, -0.6041894, -0.5803117], [1.410169, -0.6631064, -0.5656221], [1.30271, -0.5813689, -0.5565158], [0.9827078, -0.4546241, -0.5241261], [0.7543987, -0.4499241, -0.4825106], [0.7600726, -0.4721095, -0.5080995], [0.8671387, -0.4281118, -0.5523156], [0.9280462, -0.4272087, -0.574882], [0.9059544, -0.4115677, -0.5403124], [0.8792507, -0.3481965, -0.4431288], [0.8156298, -0.2688021, -0.3999835], [0.7342829, -0.153086, -0.3906262], [0.707448, -0.08598582, -0.373256], [0.6786291, -0.07843002, -0.369946], [0.6662608, -0.1039871, -0.3360813], [0.6646868, -0.1727375, -0.3146466], [0.6816182, -0.2617558, -0.3161248], [0.7387757, -0.3498803, -0.3043232], [0.7508862, -0.3742127, -0.3054717], [0.7424336, -0.3405123, -0.3000192], [0.7387755, -0.2481588, -0.3023504], [0.7327698, -0.1163007, -0.3212713], [0.7585502, -0.08551012, -0.3293846], [0.8321089, -0.06015864, -0.3358763], [0.922482, 0.04216362, -0.334914], [0.9189769, 0.02471241, -0.3448282], [0.9332976, -0.05805537, -0.3818861], [1.064063, -0.07779113, -0.4284442], [1.095099, -0.1284361, -0.4372169], [1.053568, -0.1486893, -0.3860273], [1.082398, -0.1339347, -0.3584069], [1.093887, -0.1656023, -0.3862769], [1.104079, -0.149859, -0.4723899], [1.182836, -0.1618551, -0.6226026], [1.278588, -0.2370976, -0.7209982], [1.290364, -0.3178527, -0.7421247], [1.15382, -0.4582111, -0.7673092], [0.9745916, -0.5076633, -0.7692173], [0.9146754, -0.4789912, -0.6996507], [0.9708636, -0.4913646, -0.5858723], [1.004669, -0.4222396, -0.5124962], [0.988993, -0.315633, -0.5172631], [0.9999901, -0.2318951, -0.5113028], [0.9813232, -0.1730123, -0.4690493], [0.9061778, -0.1604091, -0.4555224], [0.8003635, -0.1413869, -0.4159872], [0.6554393, -0.1606163, -0.3299533], [0.5728922, -0.1915508, -0.2838629], [0.5508922, -0.1882503, -0.2742041], [0.5296837, -0.1938715, -0.3011892], [0.5749807, -0.1900839, -0.3497189], [0.6725027, -0.2135959, -0.3672347], [0.7928624, -0.2530078, -0.3994587], [0.9048944, -0.2590274, -0.4274334], [0.9334714, -0.2646921, -0.4072276], [0.8972146, -0.2789197, -0.3749946], [0.8421371, -0.319731, -0.3028502], [0.7978892, -0.3599329, -0.214382], [0.7944978, -0.3549246, -0.1952919], [0.8364959, -0.328779, -0.2158683], [0.8970826, -0.3067008, -0.2304948], [0.9450224, -0.3157309, -0.249339], [0.9752567, -0.3293866, -0.2533626], [0.9910806, -0.322099, -0.236826], [1.02077, -0.3246426, -0.2535761], [1.086936, -0.33423, -0.3407017], [1.214355, -0.3745158, -0.4631439], [1.34322, -0.4502291, -0.517051], [1.28177, -0.5028034, -0.4954658], [1.043945, -0.552845, -0.500022], [0.8043371, -0.6029262, -0.5066347], [0.7150054, -0.5858697, -0.5151477], [0.8535105, -0.543484, -0.5790922], [0.9595776, -0.5178488, -0.6071302], [0.9186373, -0.4726222, -0.5728991], [0.9199846, -0.4146535, -0.5242674], [0.9001878, -0.3275646, -0.4678644], [0.8664817, -0.2317601, -0.4341515], [0.8669431, -0.1861947, -0.4269854], [0.8026979, -0.1453847, -0.430864], [0.7571156, -0.1182572, -0.4173736], [0.7254517, -0.147883, -0.3886897], [0.6731914, -0.1963432, -0.3570659], [0.6672467, -0.2406991, -0.3049603], [0.6689904, -0.2680685, -0.2917023], [0.6813094, -0.2915446, -0.3126406], [0.710341, -0.3049903, -0.3237091], [0.7546884, -0.2680861, -0.3629726], [0.7787347, -0.1935498, -0.3795326], [0.757001, -0.0961661, -0.3652519], [0.7876172, -0.02598956, -0.3818939], [0.8499083, -0.02679239, -0.3808032], [0.9247901, -0.04431066, -0.3730492], [1.008454, -0.07151985, -0.39885], [1.050252, -0.1277472, -0.4096112], [1.131373, -0.1623952, -0.4075766], [1.213169, -0.1679504, -0.4257554], [1.220225, -0.1797679, -0.5057779], [1.220109, -0.1914491, -0.6498242], [1.246697, -0.2042669, -0.7336412], [1.271511, -0.2752258, -0.7366908], [1.173014, -0.408745, -0.7496619], [0.959991, -0.4906895, -0.7183104], [0.8214454, -0.5025618, -0.6242868], [0.8240447, -0.5173874, -0.5870746], [0.9058026, -0.4582361, -0.5794002], [0.9600288, -0.3077675, -0.5207281], [0.9584437, -0.2002558, -0.4548709], [0.9538523, -0.1633302, -0.4077242], [0.9453393, -0.1686414, -0.3963358], [0.8984266, -0.1832316, -0.4135416], [0.7898011, -0.1928797, -0.4039967], [0.6611683, -0.2405453, -0.3581716], [0.5696377, -0.2845405, -0.2922194], [0.564925, -0.2901563, -0.2594098], [0.6235114, -0.2951306, -0.2585885], [0.6309671, -0.2875, -0.2480142], [0.6456394, -0.2545774, -0.2618567], [0.6984676, -0.2213458, -0.2705833], [0.7053158, -0.214008, -0.2503644], [0.7253515, -0.2238085, -0.2285424], [0.7629121, -0.2300516, -0.1912465], [0.8225591, -0.2458424, -0.1857405], [0.9257815, -0.2724395, -0.2245717], [0.989536, -0.2919602, -0.2444231], [1.064847, -0.3162505, -0.2350017], [1.176465, -0.3612416, -0.2176269], [1.20011, -0.3826225, -0.224532], [1.18168, -0.406681, -0.2937865], [1.30064, -0.530941, -0.4518689], [1.426149, -0.6315847, -0.5753785], [1.288334, -0.5572475, -0.5281755], [1.001435, -0.4234527, -0.4923557], [0.8149843, -0.3514501, -0.546935], [0.8565131, -0.3530042, -0.5424115], [0.9624398, -0.3844131, -0.5579317], [0.9115382, -0.3910136, -0.5854583], [0.9198033, -0.4169487, -0.5093348], [0.9467433, -0.4121198, -0.4352536], [0.8555423, -0.3187263, -0.3913235], [0.8469894, -0.2300373, -0.3800198], [0.7908835, -0.1359704, -0.4008475], [0.7083546, -0.1088842, -0.3654592], [0.7032912, -0.1687727, -0.3426103], [0.6304206, -0.1581754, -0.3409246], [0.6577622, -0.1932781, -0.3242037], [0.7382788, -0.2516603, -0.3397202], [0.7377266, -0.2157803, -0.3368185], [0.7609786, -0.2212022, -0.3354649], [0.7464583, -0.211756, -0.3422533], [0.7543958, -0.1757928, -0.3158985], [0.778259, -0.1514594, -0.3129247], [0.7615171, -0.06426658, -0.3284127], [0.8286213, -0.002519358, -0.3506011], [0.9380456, 0.007633002, -0.3671278], [1.038144, -0.03545368, -0.3655191], [1.083013, -0.1041641, -0.3782123], [1.084223, -0.103949, -0.3968548], [1.156243, -0.1298702, -0.4424883], [1.201825, -0.1852692, -0.5079887], [1.182891, -0.18811, -0.623024], [1.192728, -0.1990565, -0.8039019], [1.229448, -0.2825852, -0.852249], [1.238273, -0.470581, -0.7739523], [1.129865, -0.6541393, -0.7129919], [0.9404559, -0.6644958, -0.5930721], [0.8203752, -0.5586112, -0.4977741], [0.7979551, -0.459002, -0.5225741], [0.8004056, -0.3285041, -0.5135161], [0.846036, -0.1823219, -0.4678204], [0.9288983, -0.1261315, -0.4455832], [0.9282479, -0.1405236, -0.414878], [0.8908246, -0.177418, -0.3951731], [0.8465999, -0.2274724, -0.3469073], [0.7008238, -0.2724503, -0.2833567], [0.5831866, -0.2797102, -0.2788054], [0.5820097, -0.2299857, -0.2784443], [0.5799853, -0.1879912, -0.2657335], [0.5867941, -0.1791079, -0.2681877], [0.6517417, -0.2018996, -0.2701975], [0.7140519, -0.2564264, -0.2636587], [0.7574058, -0.2983775, -0.2456606], [0.7901996, -0.348673, -0.2334907], [0.7842372, -0.3692825, -0.223493], [0.7804854, -0.3272466, -0.2094439], [0.8198481, -0.3007258, -0.2072421], [0.8975011, -0.2975284, -0.2330215], [0.9941093, -0.3192495, -0.2639245], [1.032095, -0.3527554, -0.2419565], [1.034219, -0.3597883, -0.2323142], [1.088637, -0.3711032, -0.3098024], [1.19505, -0.43189, -0.4132783], [1.363081, -0.541513, -0.4640119], [1.459933, -0.592238, -0.4430717], [1.276374, -0.5657227, -0.4321795], [0.9111454, -0.5702229, -0.4329372], [0.633272, -0.5811801, -0.3863195], [0.6315273, -0.575141, -0.3994644], [0.8263676, -0.5768838, -0.5133439], [0.9535833, -0.5412255, -0.6361441], [0.9892923, -0.4707969, -0.6649407], [0.9415039, -0.3906627, -0.5466168], [0.8398078, -0.3175076, -0.4459736], [0.8353577, -0.2999176, -0.4462086], [0.8067731, -0.3054932, -0.4286445], [0.7652102, -0.2834495, -0.3945296], [0.7939673, -0.2682547, -0.3758721], [0.7533233, -0.2542247, -0.3808431], [0.7478986, -0.2283304, -0.4036085], [0.75053, -0.2023649, -0.3952672], [0.6885611, -0.1416748, -0.3853784], [0.7026444, -0.1039983, -0.3758076], [0.7494606, -0.1477211, -0.3457152], [0.852329, -0.2060032, -0.34134], [0.9150268, -0.2611376, -0.3692187], [0.8319431, -0.261483, -0.3934216], [0.7986179, -0.1353699, -0.3727717], [0.8042774, 0.013066, -0.3505494], [0.8226499, 0.05541276, -0.3874245], [0.8833127, 0.0007178832, -0.4008167], [0.9618603, -0.07066591, -0.3522659], [1.094875, -0.1328138, -0.3149428], [1.127894, -0.1436499, -0.320163], [1.063534, -0.07086524, -0.335309], [1.071354, -0.0352425, -0.3342701], [1.066018, -0.05008112, -0.3638699], [1.090667, -0.07294421, -0.4811405], [1.284406, -0.1519833, -0.7041894], [1.456885, -0.2193315, -0.8660377], [1.372348, -0.3219895, -0.7853291], [1.146028, -0.5111424, -0.7265768], [0.9987903, -0.5772643, -0.7818166], [0.892594, -0.5287221, -0.6579979], [0.7884881, -0.5489194, -0.5140575], [0.8091657, -0.52276, -0.5224978], [0.9029119, -0.3525572, -0.5167654], [0.9157346, -0.2294377, -0.4954131], [0.9094372, -0.2012552, -0.4654834], [0.9367508, -0.1778439, -0.4314681], [0.900329, -0.1901493, -0.4371232], [0.816915, -0.2170285, -0.4209552], [0.7033347, -0.2296206, -0.3784745], [0.5694321, -0.2504488, -0.3296384], [0.5241908, -0.278508, -0.2787163], [0.520074, -0.3002172, -0.2414966], [0.5473941, -0.2921101, -0.2232666], [0.6452518, -0.2546653, -0.2402185], [0.7194549, -0.1891253, -0.2853876], [0.7707429, -0.1653939, -0.3316443], [0.7892985, -0.2348461, -0.3176298], [0.8068734, -0.3327066, -0.2517419], [0.8815771, -0.4194096, -0.2173583], [0.9286774, -0.4405776, -0.2145887], [0.9653732, -0.3969603, -0.2208192], [1.011891, -0.3728172, -0.2154749], [1.052891, -0.3672334, -0.2119586], [1.107812, -0.3619243, -0.2499462], [1.119177, -0.3843429, -0.3126481], [1.117059, -0.4600066, -0.4060858], [1.194852, -0.55788, -0.4795384], [1.381061, -0.6090533, -0.4726127], [1.514191, -0.6077693, -0.4674519], [1.302738, -0.563328, -0.4859082], [0.8898794, -0.4753825, -0.4759034], [0.6933137, -0.4251807, -0.4660698], [0.7349932, -0.4424002, -0.4736705], [0.8108236, -0.4280932, -0.4717284], [0.854933, -0.3716184, -0.4731318], [0.8808654, -0.305132, -0.4713235], [0.8468407, -0.2110588, -0.4165871], [0.7693399, -0.1388534, -0.3411526], [0.7612552, -0.1219846, -0.318962], [0.7468192, -0.1482855, -0.3378133], [0.6748341, -0.1979055, -0.3434156], [0.6670776, -0.2348219, -0.3492943], [0.7069278, -0.269572, -0.3741192], [0.7718166, -0.2874534, -0.3902719], [0.8250174, -0.2655471, -0.421091], [0.8184082, -0.2286883, -0.4441792], [0.8238163, -0.186574, -0.4219416], [0.8299988, -0.1727753, -0.4058111], [0.8342936, -0.1817699, -0.3708326], [0.8432409, -0.1514173, -0.3155148], [0.8395456, -0.09152955, -0.3008725], [0.8744554, -0.04190112, -0.3003644], [0.9421357, -0.01375741, -0.3133181], [1.030361, -0.008948349, -0.3568253], [1.09783, -0.03848252, -0.3943569], [1.148803, -0.09767033, -0.3944856], [1.21492, -0.1304597, -0.4114527], [1.187172, -0.1288609, -0.5385644], [1.163457, -0.1517427, -0.6831198], [1.277274, -0.2089663, -0.7179963], [1.333326, -0.2963977, -0.7265221], [1.198744, -0.3913649, -0.7459535], [0.9734151, -0.4112884, -0.6631789], [0.8239097, -0.3930563, -0.5183177], [0.7939718, -0.4083756, -0.4758784], [0.7923874, -0.3839168, -0.5094218], [0.7980146, -0.3243262, -0.5082056], [0.8242486, -0.2808843, -0.4713186], [0.8703243, -0.2464661, -0.4116321], [0.9047061, -0.2522309, -0.3619056], [0.8712206, -0.2578708, -0.3834104], [0.8083093, -0.2472016, -0.4150426], [0.7441666, -0.2496557, -0.3668276], [0.665945, -0.2309437, -0.3227269], [0.5998709, -0.2276365, -0.3248169], [0.5734857, -0.2371354, -0.3161528], [0.6297466, -0.2318463, -0.3089263], [0.7224421, -0.2587098, -0.2667201], [0.7527634, -0.3088248, -0.2235244], [0.7542863, -0.357924, -0.2489907], [0.7839581, -0.3645542, -0.2784844], [0.8465522, -0.3378081, -0.301818], [0.9016398, -0.3417955, -0.28802], [0.9021886, -0.3449196, -0.2279305], [0.8967429, -0.3475863, -0.2042039], [0.9202075, -0.3734729, -0.2026572], [0.9532734, -0.3938201, -0.2016727], [0.9744634, -0.3972303, -0.1988105], [0.9857811, -0.3903296, -0.2113483], [1.075868, -0.4202894, -0.2860853], [1.21509, -0.5080366, -0.3952732], [1.29065, -0.6184289, -0.4660521], [1.378223, -0.6670863, -0.4936835], [1.409444, -0.5908127, -0.5838436], [1.189172, -0.4947927, -0.6666189], [0.9188148, -0.4445781, -0.6199948], [0.8082034, -0.409314, -0.5967427], [0.7766637, -0.4048095, -0.6198329], [0.8431689, -0.3999817, -0.6373265], [0.93142, -0.3775431, -0.6796684], [0.8742696, -0.3163129, -0.5874477], [0.788537, -0.1953081, -0.3878956], [0.7429054, -0.1105737, -0.2860653], [0.6610958, -0.08918425, -0.2579587], [0.5755158, -0.08483405, -0.2463758], [0.511244, -0.1000967, -0.2501181], [0.5091285, -0.1423947, -0.2717332], [0.5848657, -0.1879051, -0.3112842], [0.6326007, -0.2017719, -0.3788986], [0.6551211, -0.2276105, -0.4543926], [0.7315803, -0.2888022, -0.4298251], [0.8503771, -0.3217829, -0.3570268], [0.9228348, -0.2767958, -0.3413863], [0.917808, -0.150426, -0.3666782], [0.9361642, -0.001530459, -0.4257176], [0.9889577, 0.05972621, -0.4288085], [1.068896, -0.02581562, -0.3886968], [1.162482, -0.09682247, -0.4003301], [1.160724, -0.06087252, -0.4299031], [1.139699, -0.07454783, -0.5213494], [1.16903, -0.1258787, -0.6493157], [1.224412, -0.1525249, -0.7045995], [1.297151, -0.1936156, -0.6806865], [1.236636, -0.2805639, -0.6464461], [1.04968, -0.4183559, -0.6948486], [0.8973823, -0.4326782, -0.7096681], [0.8312839, -0.3616282, -0.6240483], [0.8308574, -0.3624256, -0.5439617], [0.8171982, -0.2917192, -0.4766062], [0.8076041, -0.212244, -0.4709859], [0.7729104, -0.2210326, -0.4855695], [0.6865369, -0.2243416, -0.4567644], [0.7003561, -0.2787288, -0.4200685], [0.7430946, -0.339033, -0.3338376], [0.7312607, -0.3461669, -0.3002908], [0.7440804, -0.3464314, -0.3369244], [0.7370763, -0.3220264, -0.3146242], [0.7503459, -0.2739003, -0.3136939], [0.8151905, -0.1810316, -0.3692235], [0.8757247, -0.1449404, -0.416485], [0.9171521, -0.2269099, -0.4119874], [0.9000246, -0.2864089, -0.3528099], [0.8829999, -0.345271, -0.30621], [0.8813167, -0.4089882, -0.2736177], [0.8665868, -0.4107106, -0.2561508], [0.8843344, -0.3751313, -0.2505762], [0.883856, -0.3016315, -0.2186096], [0.8723536, -0.2757555, -0.181096], [0.8821405, -0.3350356, -0.1453038], [0.8983948, -0.4064052, -0.1306508], [0.9847685, -0.4492093, -0.149513], [1.12167, -0.4132543, -0.1956923], [1.231861, -0.3921289, -0.3275674], [1.286283, -0.4908469, -0.5039406], [1.312306, -0.6082522, -0.5740623], [1.298134, -0.631419, -0.5341122], [1.13396, -0.5467525, -0.5095798], [0.9347206, -0.4612387, -0.4965631], [0.8937915, -0.4560915, -0.4601818], [0.8950639, -0.4470644, -0.4803811], [0.8287211, -0.4104251, -0.5081614], [0.8242649, -0.4058797, -0.4890796], [0.8788189, -0.366408, -0.4801961], [0.8572801, -0.2669509, -0.4449057], [0.846827, -0.2278322, -0.4081216], [0.8354091, -0.2011748, -0.385365], [0.7343062, -0.1090232, -0.3094125], [0.6939067, -0.09752201, -0.2728471], [0.6925633, -0.1539573, -0.3027841], [0.6623398, -0.1735492, -0.2981417], [0.6730643, -0.2199801, -0.2929154], [0.6988819, -0.2351706, -0.3282146], [0.733896, -0.2137201, -0.3558047], [0.7714891, -0.2521528, -0.360022], [0.8172115, -0.2628079, -0.3625247], [0.8524106, -0.2545349, -0.3703332], [0.8361776, -0.2461491, -0.3721871], [0.8367386, -0.1690266, -0.359882], [0.852788, -0.1154417, -0.3335898], [0.8806416, -0.09335548, -0.2918294], [0.9405368, -0.05671198, -0.273027], [0.984123, -0.02734743, -0.3141804], [1.035006, -0.005459228, -0.3502731], [1.106524, -0.03837334, -0.335634], [1.147348, -0.0903585, -0.3203621], [1.153406, -0.1386089, -0.3333072], [1.170182, -0.2006915, -0.3973204], [1.225604, -0.2077053, -0.5142904], [1.319886, -0.2092903, -0.5903148], [1.368278, -0.2778716, -0.623155], [1.244662, -0.3724234, -0.7031771], [1.048541, -0.4150355, -0.7464473], [0.9075705, -0.4156227, -0.6864209], [0.8112856, -0.4772788, -0.6173583], [0.8341801, -0.5132679, -0.5474858], [0.8900328, -0.4467443, -0.4745251], [0.8488533, -0.3632037, -0.4506931], [0.8575537, -0.2646739, -0.4535714], [0.8957471, -0.197434, -0.4421641], [0.8784154, -0.1851751, -0.4110102], [0.8815885, -0.1667859, -0.3918342], [0.8388201, -0.1845251, -0.3837432], [0.7803083, -0.2423763, -0.3444704], [0.7806777, -0.3120253, -0.2876385], [0.7728816, -0.3801089, -0.2425256], [0.7736964, -0.3823374, -0.2434009], [0.7492015, -0.3340184, -0.2924212], [0.7125126, -0.263842, -0.3161906], [0.7236436, -0.1879517, -0.29091], [0.7311449, -0.1791059, -0.2606255], [0.7608078, -0.2236981, -0.2534737], [0.8018049, -0.2877455, -0.2358375], [0.9797343, -0.04672033, -0.3105268], [1.078165, -0.07926772, -0.3599452], [1.167612, -0.1141852, -0.4042101], [1.207312, -0.1437514, -0.4275289], [1.202517, -0.1725775, -0.4740608], [1.203259, -0.208262, -0.6051346], [1.206519, -0.2523707, -0.7683013], [1.196841, -0.3022441, -0.8607057], [1.147696, -0.4024515, -0.8852602], [1.031616, -0.4906277, -0.8176012], [0.9394135, -0.4971202, -0.6693011], [0.9380522, -0.4839696, -0.586911], [0.9534791, -0.4390763, -0.5599204], [0.9624525, -0.3198176, -0.488528], [0.9905522, -0.1795481, -0.3979419], [0.9941778, -0.08871289, -0.3526525], [0.9483498, -0.07805089, -0.3831385], [0.8490249, -0.1309654, -0.3988545], [0.6792833, -0.2067006, -0.3617034], [0.5342284, -0.2715923, -0.321947], [0.498158, -0.2950512, -0.2388997], [0.4974957, -0.2795907, -0.2029592], [0.5064167, -0.286091, -0.2564634], [0.5609918, -0.302237, -0.2553743]]\n"
     ]
    }
   ],
   "source": [
    "import json\n",
    "def format_data_for_prompt(data):\n",
    "    \"\"\"Convert structured accelerometer data into a JSON format string.\"\"\"\n",
    "    return json.dumps(data.tolist())\n",
    "\n",
    "print(format_data_for_prompt(X_train[0]))\n"
   ]
  },
  {
   "cell_type": "markdown",
   "metadata": {},
   "source": [
    "# Zero Shot "
   ]
  },
  {
   "cell_type": "code",
   "execution_count": 6,
   "metadata": {},
   "outputs": [
    {
     "name": "stdout",
     "output_type": "stream",
     "text": [
      "Activity: WALKING\n",
      "Activity: LAYING\n",
      "Activity: LAYING\n",
      "Activity: WALKING\n",
      "Activity: WALKING\n",
      "Activity: WALKING\n",
      "Activity: LAYING\n",
      "Activity: WALKING\n",
      "Activity: LAYING\n",
      "Activity: LAYING\n",
      "Accuracy: 0.20\n",
      "Accuracy Percentage:  20.0\n"
     ]
    }
   ],
   "source": [
    "# model_name = \"llama3.1-70b\"\n",
    "model_name = \"llama3.1-8b\"\n",
    "llm = ChatGroq(model=groq_models[model_name], api_key=Groq_Token, temperature=0)\n",
    "\n",
    "predictions = []\n",
    "# num_samples = X_train.shape[0]\n",
    "num_samples = 10\n",
    "\n",
    "for i in range(num_samples):\n",
    "    # Extract the 500x3 data for the ith person\n",
    "    X_i = X_train[i]\n",
    "\n",
    "    # Format the data as a JSON string\n",
    "    data_str = format_data_for_prompt(X_i)\n",
    "\n",
    "    # Generate a prompt for the model\n",
    "\n",
    "    prompt = f\"\"\"\n",
    "    You are a highly trained human activity classification model.\n",
    "\n",
    "    Your task is to analyze the given accelerometer data and classify the human activity into one of the following categories:\n",
    "    - WALKING\n",
    "    - WALKING_UPSTAIRS\n",
    "    - WALKING_DOWNSTAIRS\n",
    "    - SITTING\n",
    "    - STANDING\n",
    "    - LAYING\n",
    "\n",
    "    Here is the accelerometer data provided:\n",
    "    - You have 500 readings, each containing three accelerometer values: (acceleration_x, acceleration_y, acceleration_z).\n",
    "    - The data is collected over a 10-second period at a sampling rate of 50 Hz, which gives 500 readings.\n",
    "\n",
    "    Data Format:\n",
    "    - The data is provided as a nested list. Each inner lsit represents a single reading: (acceleration_x, acceleration_y, acceleration_z).\n",
    "\n",
    "    Please analyze the data and provide the most likely activity label from the list above. Provide ONLY the classification label (from the given options above) as output.\n",
    "\n",
    "    Data: {data_str}\n",
    "    \"\"\"\n",
    "\n",
    "    # prompt = f\"\"\"\n",
    "    # * You are a human activity classification model.\n",
    "    # * Your task is to analyze the given accelerometer data and classify the human activity as \"WALKING\", \"WALKING_UPSTAIRS\", \"WALKING_DOWNSTAIRS\", \"SITTING\", \"STANDING\" or \"LAYING\".\n",
    "    # * The data is formatted as a list of accelerometer readings where each reading is a tuple of three values: (acceleration_x, acceleration_y, acceleration_z).\n",
    "    # * You have 500 such readings, each containing three accelerometer values (acceleration_x, acceleration_y, acceleration_z).\n",
    "    # * These readings were taken over a 10-second period at a sampling rate of 50 Hz.\n",
    "    # * You can run do any mathematical calculations on the data to classify the activity. I just want the activity name.\n",
    "    # * Provide ONLY the classification label (from the given options above) as output.\n",
    "\n",
    "    # Data: {data_str}\n",
    "    # \"\"\"\n",
    "    \n",
    "    answer = llm.invoke(prompt)\n",
    "    activity_name = answer.content.strip()\n",
    "    print(f\"Activity: {activity_name}\")\n",
    "    activity_number = activity_reverse_dict.get(activity_name, -1)  # Use -1 for unknown activities\n",
    "    \n",
    "    predictions.append(activity_number)\n",
    "\n",
    "# Compare predictions with actual y_train labels\n",
    "correct = 0\n",
    "\n",
    "for i in range(num_samples):\n",
    "    if predictions[i] == y_train[i]:\n",
    "        correct += 1\n",
    "\n",
    "accuracy = correct / num_samples\n",
    "print(f\"Accuracy: {accuracy:.2f}\")\n",
    "print(\"Accuracy Percentage: \",accuracy*100)"
   ]
  },
  {
   "cell_type": "markdown",
   "metadata": {},
   "source": [
    "# Few Shot"
   ]
  },
  {
   "cell_type": "code",
   "execution_count": 16,
   "metadata": {},
   "outputs": [
    {
     "name": "stdout",
     "output_type": "stream",
     "text": [
      "Random Indices:  [40, 35, 25, 37, 3]\n"
     ]
    }
   ],
   "source": [
    "num_examples = 5\n",
    "random_indices = random.sample(range(X_train.shape[0]), num_examples)\n",
    "print(\"Random Indices: \",random_indices)"
   ]
  },
  {
   "cell_type": "code",
   "execution_count": 21,
   "metadata": {},
   "outputs": [
    {
     "name": "stdout",
     "output_type": "stream",
     "text": [
      "Activity: WALKING_DOWNSTAIRS\n",
      "Activity: WALKING_UPSTAIRS\n",
      "Activity: WALKING_DOWNSTAIRS\n",
      "Activity: WALKING_UPSTAIRS\n",
      "Activity: WALKING_DOWNSTAIRS\n",
      "Activity: WALKING_DOWNSTAIRS\n",
      "Activity: WALKING_UPSTAIRS\n",
      "Activity: WALKING_UPSTAIRS\n",
      "Activity: WALKING_DOWNSTAIRS\n",
      "Activity: WALKING_DOWNSTAIRS\n"
     ]
    },
    {
     "ename": "IndexError",
     "evalue": "list index out of range",
     "output_type": "error",
     "traceback": [
      "\u001b[1;31m---------------------------------------------------------------------------\u001b[0m",
      "\u001b[1;31mIndexError\u001b[0m                                Traceback (most recent call last)",
      "Cell \u001b[1;32mIn[21], line 81\u001b[0m\n\u001b[0;32m     78\u001b[0m correct \u001b[38;5;241m=\u001b[39m \u001b[38;5;241m0\u001b[39m\n\u001b[0;32m     80\u001b[0m \u001b[38;5;28;01mfor\u001b[39;00m i \u001b[38;5;129;01min\u001b[39;00m random_test:\n\u001b[1;32m---> 81\u001b[0m     \u001b[38;5;28;01mif\u001b[39;00m \u001b[43mpredictions\u001b[49m\u001b[43m[\u001b[49m\u001b[43mi\u001b[49m\u001b[43m]\u001b[49m \u001b[38;5;241m==\u001b[39m y_train[i]:\n\u001b[0;32m     82\u001b[0m         correct \u001b[38;5;241m+\u001b[39m\u001b[38;5;241m=\u001b[39m \u001b[38;5;241m1\u001b[39m\n\u001b[0;32m     84\u001b[0m accuracy \u001b[38;5;241m=\u001b[39m correct \u001b[38;5;241m/\u001b[39m num_samples\n",
      "\u001b[1;31mIndexError\u001b[0m: list index out of range"
     ]
    }
   ],
   "source": [
    "examples = []\n",
    "for idx in random_indices:\n",
    "    data_example = X_train[idx]\n",
    "    label_example = y_train[idx]\n",
    "    data_str = format_data_for_prompt(data_example)\n",
    "    examples.append((data_str, activity_dict[label_example]))\n",
    "    \n",
    "\n",
    "\n",
    "predictions = []\n",
    "# num_samples = X_train.shape[0]\n",
    "num_samples = 10\n",
    "# get random samples\n",
    "random_test = random.sample(range(X_train.shape[0]), num_samples)\n",
    "\n",
    "api_index = 0\n",
    "\n",
    "for i in random_test:\n",
    "\n",
    "    # model_name = \"llama3.1-70b\"\n",
    "    model_name = \"llama3.1-8b\"\n",
    "    llm = ChatGroq(model=groq_models[model_name], api_key=Groq_Token, temperature=0)\n",
    "\n",
    "    # Extract the 500x3 data for the ith person\n",
    "    X_i = X_train[i]\n",
    "\n",
    "    # Format the data as a JSON string\n",
    "    data_str = format_data_for_prompt(X_i)\n",
    "\n",
    "    # Generate a prompt for the model\n",
    "\n",
    "    prompt = f\"\"\"\n",
    "    You are a highly trained human activity classification model.\n",
    "\n",
    "    Your task is to analyze the given accelerometer data and classify the human activity into one of the following categories:\n",
    "    - WALKING\n",
    "    - WALKING_UPSTAIRS\n",
    "    - WALKING_DOWNSTAIRS\n",
    "    - SITTING\n",
    "    - STANDING\n",
    "    - LAYING\n",
    "\n",
    "    Here is the accelerometer data provided:\n",
    "    - You have 500 readings, each containing three accelerometer values: (acceleration_x, acceleration_y, acceleration_z).\n",
    "    - The data is collected over a 10-second period at a sampling rate of 50 Hz, which gives 500 readings.\n",
    "\n",
    "    Data Format:\n",
    "    - The data is provided as a nested list. Each inner lsit represents a single reading: (acceleration_x, acceleration_y, acceleration_z).\n",
    "\n",
    "    Here are few examples:\n",
    "    - Example 1: {examples[0][0]} -> {examples[0][1]}\n",
    "    - Example 2: {examples[1][0]} -> {examples[1][1]}\n",
    "    - Example 3: {examples[2][0]} -> {examples[2][1]}\n",
    "    - Example 4: {examples[3][0]} -> {examples[3][1]}\n",
    "    - Example 5: {examples[4][0]} -> {examples[4][1]}\n",
    "    \n",
    "\n",
    "    Please analyze the examples extensively and provide the most likely activity label for the below data from the list above.\n",
    "    \n",
    "    Provide ONLY the classification label (from the given options above) as output.\n",
    "\n",
    "    Data: {data_str}\n",
    "    \"\"\"\n",
    "    \n",
    "    answer = llm.invoke(prompt)\n",
    "    activity_name = answer.content.strip()\n",
    "    print(f\"Activity: {activity_name}\")\n",
    "    activity_number = activity_reverse_dict.get(activity_name, -1)  # Use -1 for unknown activities\n",
    "    \n",
    "    predictions.append(activity_number)\n",
    "\n",
    "    if api_index == 7:\n",
    "        api_index = 0\n",
    "    else:\n",
    "        api_index += 1\n",
    "\n",
    "# Compare predictions with actual y_train labels\n",
    "correct = 0\n",
    "\n",
    "for i in random_test:\n",
    "    if predictions[i] == y_train[i]:\n",
    "        correct += 1\n",
    "\n",
    "accuracy = correct / num_samples\n",
    "print(f\"Accuracy: {accuracy:.2f}\")\n",
    "print(\"Accuracy Percentage: \",accuracy*100)"
   ]
  },
  {
   "cell_type": "code",
   "execution_count": 23,
   "metadata": {},
   "outputs": [
    {
     "name": "stdout",
     "output_type": "stream",
     "text": [
      "Accuracy: 0.10\n",
      "Accuracy Percentage:  10.0\n"
     ]
    }
   ],
   "source": [
    "for i in range(num_samples):\n",
    "    \n",
    "    if predictions[i] == y_train[random_test[i]]:\n",
    "        correct += 1\n",
    "\n",
    "accuracy = correct / num_samples\n",
    "print(f\"Accuracy: {accuracy:.2f}\")\n",
    "print(\"Accuracy Percentage: \",accuracy*100)"
   ]
  },
  {
   "cell_type": "markdown",
   "metadata": {},
   "source": [
    "## Testing"
   ]
  },
  {
   "cell_type": "code",
   "execution_count": 5,
   "metadata": {},
   "outputs": [
    {
     "name": "stdout",
     "output_type": "stream",
     "text": [
      "Model: llama3-70b\n",
      "Error: Error code: 400 - {'error': {'message': 'Bad Request', 'type': 'invalid_request_error'}}, Model: llama3-70b\n",
      "Model: mixtral\n",
      "Based on the given accelerometer data, it is difficult to provide an accurate classification of the human activity without further information or context. The data shows varying levels of acceleration in different directions, but these patterns can correspond to a variety of activities such as walking, running, or even staying still while moving one's arms.\n",
      "\n",
      "Therefore, it is not possible to provide a definitive answer based solely on the provided data.\n",
      "model_name:  mixtral\n",
      "Model: gemma-7b\n",
      "Error: Error code: 400 - {'error': {'message': 'Bad Request', 'type': 'invalid_request_error'}}, Model: gemma-7b\n",
      "Model: llama3.1-70b\n",
      "Walking\n",
      "model_name:  llama3.1-70b\n",
      "Model: llama3-8b\n",
      "Error: Error code: 400 - {'error': {'message': 'Bad Request', 'type': 'invalid_request_error'}}, Model: llama3-8b\n",
      "Model: llama3.1-8b\n",
      "walking\n",
      "model_name:  llama3.1-8b\n",
      "Model: gemma-9b\n",
      "Error: Error code: 400 - {'error': {'message': 'Please reduce the length of the messages or completion.', 'type': 'invalid_request_error', 'param': 'messages', 'code': 'context_length_exceeded'}}, Model: gemma-9b\n"
     ]
    }
   ],
   "source": [
    "# for i in range(len(groq_models)):\n",
    "#     model_name = list(groq_models.keys())[i]\n",
    "#     llm = ChatGroq(model=groq_models[model_name], api_key=Groq_Token, temperature=0)\n",
    "#     print(f\"Model: {model_name}\")\n",
    "#     try:\n",
    "#         X_i = X_train[0]\n",
    "#         data_str = format_data_for_prompt(X_i)\n",
    "#         # print(data_str)\n",
    "#         prompt = f\"\"\"\n",
    "#         * You are a human activity classification model.\n",
    "#         * Your task is to analyze the given accelerometer data and predict the human activity (e.g., walking, running, sitting, etc.).\n",
    "#         * The data is formatted as a list of accelerometer readings where each reading is a tuple of three values: (acceleration_x, acceleration_y, acceleration_z).\n",
    "#         * You have 500 such readings, each containing three accelerometer values (acceleration_x, acceleration_y, acceleration_z).\n",
    "#         * These readings were taken over a 10-second period at a sampling rate of 50 Hz.\n",
    "#         * Provide ONLY the classification label (from the given options above) as output.\n",
    "\n",
    "#         Data: {data_str}\n",
    "#         \"\"\"\n",
    "\n",
    "#         answer = llm.invoke(prompt)\n",
    "\n",
    "#         print(answer.content)\n",
    "#         print(\"model_name: \", model_name)\n",
    "\n",
    "#     except Exception as e:\n",
    "#         print(f\"Error: {e}, Model: {model_name}\")\n",
    "#         continue\n"
   ]
  },
  {
   "cell_type": "code",
   "execution_count": null,
   "metadata": {},
   "outputs": [],
   "source": [
    "# model_name = \"llama3.1-70b\"\n",
    "# llm = ChatGroq(model=groq_models[model_name], api_key=Groq_Token, temperature=0)\n",
    "# # print(f\"Model: {model_name}\")\n",
    "# X_i = X_train[0]\n",
    "# data_str = format_data_for_prompt(X_i)\n",
    "# # print(data_str)\n",
    "# prompt = f\"\"\"\n",
    "# * You are a human activity classification model.\n",
    "# * Your task is to analyze the given accelerometer data and predict the human activity (e.g., walking, running, sitting, etc.).\n",
    "# * The data is formatted as a list of accelerometer readings where each reading is a tuple of three values: (acceleration_x, acceleration_y, acceleration_z).\n",
    "# * You have 500 such readings, each containing three accelerometer values (acceleration_x, acceleration_y, acceleration_z).\n",
    "# * These readings were taken over a 10-second period at a sampling rate of 50 Hz.\n",
    "# * Provide ONLY the classification label as output.\n",
    "\n",
    "# Data: {data_str}\n",
    "# \"\"\"\n",
    "\n",
    "# answer = llm.invoke(prompt)\n",
    "\n",
    "# print(answer.content)\n",
    "# print(\"model_name: \", model_name)\n",
    "\n"
   ]
  }
 ],
 "metadata": {
  "kernelspec": {
   "display_name": "Python 3",
   "language": "python",
   "name": "python3"
  },
  "language_info": {
   "codemirror_mode": {
    "name": "ipython",
    "version": 3
   },
   "file_extension": ".py",
   "mimetype": "text/x-python",
   "name": "python",
   "nbconvert_exporter": "python",
   "pygments_lexer": "ipython3",
   "version": "3.12.4"
  }
 },
 "nbformat": 4,
 "nbformat_minor": 2
}
